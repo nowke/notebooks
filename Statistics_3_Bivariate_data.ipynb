{
  "nbformat": 4,
  "nbformat_minor": 0,
  "metadata": {
    "colab": {
      "name": "Statistics: 3. Bivariate data",
      "version": "0.3.2",
      "provenance": []
    },
    "kernelspec": {
      "display_name": "Python 3",
      "language": "python",
      "name": "python3"
    }
  },
  "cells": [
    {
      "metadata": {
        "id": "9IUQ4qhvdrD6",
        "colab_type": "text"
      },
      "cell_type": "markdown",
      "source": [
        "# Introduction\n",
        "\n",
        "Bivariate numerical data involves two variables in a dataset. Relationship between two variables can be visualized using a **scatter plot** and measured using a metric called **correlation coefficient**.\n",
        "\n",
        "Let's setup our environment."
      ]
    },
    {
      "metadata": {
        "id": "zuZS3FmLdrD8",
        "colab_type": "code",
        "colab": {}
      },
      "cell_type": "code",
      "source": [
        "import numpy as np\n",
        "import pandas as pd\n",
        "from matplotlib import pyplot\n",
        "\n",
        "matches = pd.read_csv('../input/matches.csv')\n",
        "deliveries = pd.read_csv('../input/deliveries.csv')"
      ],
      "execution_count": 0,
      "outputs": []
    },
    {
      "metadata": {
        "id": "lPxz1s0VdrD_",
        "colab_type": "text"
      },
      "cell_type": "markdown",
      "source": [
        "# Scatter plot\n",
        "\n",
        "Scatter plots help us see relationship between variables. We can infer by looking at the plot, whether there is a positive or negative or no association between the variables. Following is a sample scatter plot between **Variable A** and **Variable B**.\n",
        "\n",
        "![Scatter plot sample](https://nowke.github.io/stats/images/scatter-plot-sample.svg)\n",
        "\n",
        "We can see that there is a ***positive association*** between **Variable A** and **Variable B**. i.e. Variable A increases as variable B increases.\n",
        "\n",
        "Some datasets many contain a few data points that doesn't fit the pattern. They're called outliers.\n",
        "\n",
        "![Scatter plot outliers](https://nowke.github.io/stats/images/scatter-plot-outliers.svg)\n",
        "\n",
        "# Correlation\n",
        "\n",
        "## Positive correlation \n",
        "\n",
        "A positive correlation exists between two variables A and B when A increases, B also increases and B decreases when A decreases. Graph between A and B would look like the following.\n",
        "\n",
        "![Positive correlation](https://nowke.github.io/stats/images/positive-correlation.svg)\n",
        "\n",
        "***Examples***\n",
        "* Height v/s Weight of a person\n",
        "* Walking distance v/s calories burnt\n",
        "* Product quality v/s sales\n",
        "\n",
        "## Perfect Positive correlation\n",
        "\n",
        "A perfect positive correlation exists if there is a positive linear association between two variables. Which means, given variable A, we can exactly predict the value of B by multiplying with a positive number.\n",
        "\n",
        "![Perfect positive correlation](https://nowke.github.io/stats/images/perfect-positive-correlation.svg)\n",
        "\n",
        "***Examples***\n",
        "* Length of a square v/s it’s circumference\n",
        "* Weight in kilos v/s weight in pounds\n",
        "\n",
        "## Negative correlation\n",
        "\n",
        "A negative correlation exists between two variables A and B, if A decreases when B increases and A increases when B decreases.\n",
        "\n",
        "![Negative correlation](https://nowke.github.io/stats/images/negative-correlation.svg)\n",
        "\n",
        "***Examples***\n",
        "* Mobile screen time v/s remaining battery percentage\n",
        "* Current run rate v/s Required run rate (in Cricket)\n",
        "\n",
        "## Perfect Negative correlation\n",
        "\n",
        "A perfect negative correlation exists if there is a negative linear association between two variables.\n",
        "\n",
        "![Perfect Negative correlation](https://nowke.github.io/stats/images/perfect-negative-correlation.svg)\n",
        "\n",
        "***Examples***\n",
        "* Power v/s focal length of a lens\n",
        "* Frequency v/s wavelength of light\n",
        "\n",
        "## Zero correlation\n",
        "\n",
        "If two variables are independent of each other, then there is no correlation or zero correlation.\n",
        "\n",
        "![Zero correlation](https://nowke.github.io/stats/images/zero-correlation.svg)\n",
        "\n",
        "***Examples***\n",
        "* Bitcoin price v/s speed of light\n",
        "* Your mobile usage per day v/s neighbor’s electricity bill\n",
        "\n",
        "# Correlation coefficient\n",
        "\n",
        "Correlation coefficient $r$ measures the linear correlation between variables.\n",
        "* Value is between -1 to +1\n",
        "* Value closer to 1 &rarr; Strong positive linear relationship\n",
        "* Value closer to -1 &rarr; Strong negative linear relationship\n",
        "* Value cloesr to 0 &rarr; weak relationship\n",
        "\n",
        "Formula for calculating correlation coefficient between $x = (x_1, x_2, ..., x_n)$ and $y = (y_1, y_2, ..., y_n)$ is given by,\n",
        "\n",
        "\\begin{align}\n",
        "r = {1 \\over n-1} \\sum{({x_i - \\bar{x} \\over \\sigma_x}) \\cdot ({y_i - \\bar{y} \\over \\sigma_y})}\n",
        "\\end{align}\n",
        "\n",
        "Let's draw a scatter plot between **X = Total runs scored** and **Y = highest score by a batsman** in an innings"
      ]
    },
    {
      "metadata": {
        "id": "SLr9R0JgdrEB",
        "colab_type": "code",
        "colab": {},
        "outputId": "c7617a63-b03d-4b45-f509-4a6eb07d2bb4"
      },
      "cell_type": "code",
      "source": [
        "highest_score_batsman = deliveries.groupby(['match_id', 'batting_team', 'batsman']) \\\n",
        "                                  .batsman_runs \\\n",
        "                                  .agg([np.sum]) \\\n",
        "                                  .max(level = ['match_id', 'batting_team'])\n",
        "\n",
        "total_runs = deliveries.groupby(['match_id', 'batting_team']) \\\n",
        "                       .total_runs \\\n",
        "                       .agg([np.sum])\n",
        "\n",
        "match_total_highest_combined = pd.concat([highest_score_batsman, total_runs], axis=1)\n",
        "match_total_highest_combined_list = []\n",
        "for name in match_total_highest_combined.index:\n",
        "    match_total_highest_combined_list.append({\n",
        "        \"highest\": match_total_highest_combined.loc[name].tolist()[0],\n",
        "        \"total\": match_total_highest_combined.loc[name].tolist()[1]\n",
        "    })\n",
        "\n",
        "total_highest_df = pd.DataFrame.from_records(match_total_highest_combined_list)\n",
        "pyplot.scatter(total_highest_df.highest, total_highest_df.total)\n",
        "pyplot.xlabel(\"Highest runs by a batsman\")\n",
        "pyplot.ylabel(\"Total runs scored by the team\")\n",
        "pyplot.show()"
      ],
      "execution_count": 0,
      "outputs": [
        {
          "output_type": "display_data",
          "data": {
            "text/plain": [
              "<matplotlib.figure.Figure at 0x7f3b25089c88>"
            ],
            "image/png": "[encoded data removed]"
          },
          "metadata": {
            "tags": []
          }
        }
      ]
    },
    {
      "metadata": {
        "id": "8J3FQMm_drEH",
        "colab_type": "text"
      },
      "cell_type": "markdown",
      "source": [
        "Let's calculate the **correlation coefficient** between X and Y."
      ]
    },
    {
      "metadata": {
        "id": "QuAWOgtDdrEI",
        "colab_type": "code",
        "colab": {},
        "outputId": "c2b4a34b-c6c7-46f2-e1db-7f9daeadd2ec"
      },
      "cell_type": "code",
      "source": [
        "# Use `.corr` method\n",
        "corr = total_highest_df.highest.corr(total_highest_df.total)\n",
        "print(f'Correlation between \"Highest runs by a batsman\" and \"Total runs scored by the team\" is {corr}')"
      ],
      "execution_count": 0,
      "outputs": [
        {
          "output_type": "stream",
          "text": [
            "Correlation between \"Highest runs by a batsman\" and \"Total runs scored by the team\" is 0.6580911324218259\n"
          ],
          "name": "stdout"
        }
      ]
    },
    {
      "metadata": {
        "id": "t0pqCchFdrEL",
        "colab_type": "text"
      },
      "cell_type": "markdown",
      "source": [
        "We get a correlation coefficient of **0.658**. As we can observe from the graph and infer from the number, there's a **positive correlation**."
      ]
    },
    {
      "metadata": {
        "id": "4DNbxPRtdrEN",
        "colab_type": "text"
      },
      "cell_type": "markdown",
      "source": [
        "# Covariance\n",
        "\n",
        "Covariance is another measure of joint variability between two random variables. It is calculated as,\n",
        "\n",
        "\\begin{align}\n",
        "Covariance(x, y) = {1 \\over n - 1} \\cdot {\\sum_{i=1}^n (x_i - \\bar{x}) \\cdot (y_i - \\bar{y})} = E[XY] - \\mu_x\\mu_y\n",
        "\\end{align}\n",
        "\n",
        "Correlation in terms of covariance is given by,\n",
        "\n",
        "\\begin{align}\n",
        "Correlation(x, y) = {Covariance(x, y) \\over \\sigma_x \\cdot \\sigma_y}\n",
        "\\end{align}"
      ]
    },
    {
      "metadata": {
        "id": "Ck6RuK0ddrEO",
        "colab_type": "code",
        "colab": {},
        "outputId": "406ece9f-a7d2-4838-8bdb-5d834f43af4d"
      },
      "cell_type": "code",
      "source": [
        "# Use `.cov` method\n",
        "cov = total_highest_df.highest.cov(total_highest_df.total)\n",
        "print(f'Covariance between \"Highest runs by a batsman\" and \"Total runs scored by the team\" is {cov}')"
      ],
      "execution_count": 0,
      "outputs": [
        {
          "output_type": "stream",
          "text": [
            "Covariance between \"Highest runs by a batsman\" and \"Total runs scored by the team\" is 440.2140352512807\n"
          ],
          "name": "stdout"
        }
      ]
    },
    {
      "metadata": {
        "id": "ZFsEe_lPdrER",
        "colab_type": "text"
      },
      "cell_type": "markdown",
      "source": [
        "We can verify the same using the above formula."
      ]
    },
    {
      "metadata": {
        "id": "pnMNLNqKdrET",
        "colab_type": "code",
        "colab": {},
        "outputId": "b7fb10b5-1607-4397-f36c-9eba43589c99"
      },
      "cell_type": "code",
      "source": [
        "corr * total_highest_df.highest.std() * total_highest_df.total.std()"
      ],
      "execution_count": 0,
      "outputs": [
        {
          "output_type": "execute_result",
          "data": {
            "text/plain": [
              "440.21403525128102"
            ]
          },
          "metadata": {
            "tags": []
          },
          "execution_count": 15
        }
      ]
    }
  ]
}
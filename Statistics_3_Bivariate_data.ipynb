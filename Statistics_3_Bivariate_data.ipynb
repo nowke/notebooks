{
  "nbformat": 4,
  "nbformat_minor": 0,
  "metadata": {
    "colab": {
      "name": "Statistics: 3. Bivariate data",
      "version": "0.3.2",
      "provenance": []
    },
    "kernelspec": {
      "display_name": "Python 3",
      "language": "python",
      "name": "python3"
    }
  },
  "cells": [
    {
      "metadata": {
        "id": "tgq5qtZ52WFe",
        "colab_type": "text"
      },
      "cell_type": "markdown",
      "source": [
        "# Introduction\n",
        "\n",
        "Bivariate numerical data involves two variables in a dataset. Relationship between two variables can be visualized using a **scatter plot** and measured using a metric called **correlation coefficient**.\n",
        "\n",
        "Let's setup our environment."
      ]
    },
    {
      "metadata": {
        "id": "yY4iys_K2WFg",
        "colab_type": "code",
        "colab": {}
      },
      "cell_type": "code",
      "source": [
        "import numpy as np\n",
        "import pandas as pd\n",
        "from matplotlib import pyplot\n",
        "import math\n",
        "\n",
        "matches = pd.read_csv('../input/matches.csv')\n",
        "deliveries = pd.read_csv('../input/deliveries.csv')"
      ],
      "execution_count": 0,
      "outputs": []
    },
    {
      "metadata": {
        "id": "F8dNHCLx2WFk",
        "colab_type": "text"
      },
      "cell_type": "markdown",
      "source": [
        "# Scatter plot\n",
        "\n",
        "Scatter plots help us see relationship between variables. We can infer by looking at the plot, whether there is a positive or negative or no association between the variables. Following is a sample scatter plot between **Variable A** and **Variable B**.\n",
        "\n",
        "![Scatter plot sample](https://nowke.github.io/stats/images/scatter-plot-sample.svg)\n",
        "\n",
        "We can see that there is a ***positive association*** between **Variable A** and **Variable B**. i.e. Variable A increases as variable B increases.\n",
        "\n",
        "Some datasets many contain a few data points that doesn't fit the pattern. They're called outliers.\n",
        "\n",
        "![Scatter plot outliers](https://nowke.github.io/stats/images/scatter-plot-outliers.svg)\n",
        "\n",
        "# Correlation\n",
        "\n",
        "## Positive correlation \n",
        "\n",
        "A positive correlation exists between two variables A and B when A increases, B also increases and B decreases when A decreases. Graph between A and B would look like the following.\n",
        "\n",
        "![Positive correlation](https://nowke.github.io/stats/images/positive-correlation.svg)\n",
        "\n",
        "***Examples***\n",
        "* Height v/s Weight of a person\n",
        "* Walking distance v/s calories burnt\n",
        "* Product quality v/s sales\n",
        "\n",
        "## Perfect Positive correlation\n",
        "\n",
        "A perfect positive correlation exists if there is a positive linear association between two variables. Which means, given variable A, we can exactly predict the value of B by multiplying with a positive number.\n",
        "\n",
        "![Perfect positive correlation](https://nowke.github.io/stats/images/perfect-positive-correlation.svg)\n",
        "\n",
        "***Examples***\n",
        "* Length of a square v/s it’s circumference\n",
        "* Weight in kilos v/s weight in pounds\n",
        "\n",
        "## Negative correlation\n",
        "\n",
        "A negative correlation exists between two variables A and B, if A decreases when B increases and A increases when B decreases.\n",
        "\n",
        "![Negative correlation](https://nowke.github.io/stats/images/negative-correlation.svg)\n",
        "\n",
        "***Examples***\n",
        "* Mobile screen time v/s remaining battery percentage\n",
        "* Current run rate v/s Required run rate (in Cricket)\n",
        "\n",
        "## Perfect Negative correlation\n",
        "\n",
        "A perfect negative correlation exists if there is a negative linear association between two variables.\n",
        "\n",
        "![Perfect Negative correlation](https://nowke.github.io/stats/images/perfect-negative-correlation.svg)\n",
        "\n",
        "***Examples***\n",
        "* Power v/s focal length of a lens\n",
        "* Frequency v/s wavelength of light\n",
        "\n",
        "## Zero correlation\n",
        "\n",
        "If two variables are independent of each other, then there is no correlation or zero correlation.\n",
        "\n",
        "![Zero correlation](https://nowke.github.io/stats/images/zero-correlation.svg)\n",
        "\n",
        "***Examples***\n",
        "* Bitcoin price v/s speed of light\n",
        "* Your mobile usage per day v/s neighbor’s electricity bill\n",
        "\n",
        "# Correlation coefficient\n",
        "\n",
        "Correlation coefficient $r$ measures the linear correlation between variables.\n",
        "* Value is between -1 to +1\n",
        "* Value closer to 1 &rarr; Strong positive linear relationship\n",
        "* Value closer to -1 &rarr; Strong negative linear relationship\n",
        "* Value cloesr to 0 &rarr; weak relationship\n",
        "\n",
        "Formula for calculating correlation coefficient between $x = (x_1, x_2, ..., x_n)$ and $y = (y_1, y_2, ..., y_n)$ is given by,\n",
        "\n",
        "\\begin{align}\n",
        "r = {1 \\over n-1} \\sum{({x_i - \\bar{x} \\over \\sigma_x}) \\cdot ({y_i - \\bar{y} \\over \\sigma_y})}\n",
        "\\end{align}\n",
        "\n",
        "In terms of z-score,\n",
        "\n",
        "\\begin{align}\n",
        "r = {1 \\over n-1} \\sum{z_{x_i} \\cdot z_{y_i}}\n",
        "\\end{align}\n",
        "\n",
        "Let's draw a scatter plot between **X = Total runs scored** and **Y = highest score by a batsman** in an innings"
      ]
    },
    {
      "metadata": {
        "id": "5Oo10bW_2WFk",
        "colab_type": "code",
        "colab": {},
        "outputId": "84f5518e-5daf-425c-b518-056c6d17f63e"
      },
      "cell_type": "code",
      "source": [
        "highest_score_batsman = deliveries.groupby(['match_id', 'batting_team', 'batsman']) \\\n",
        "                                  .batsman_runs \\\n",
        "                                  .agg([np.sum]) \\\n",
        "                                  .max(level = ['match_id', 'batting_team'])\n",
        "\n",
        "total_runs = deliveries.groupby(['match_id', 'batting_team']) \\\n",
        "                       .total_runs \\\n",
        "                       .agg([np.sum])\n",
        "\n",
        "match_total_highest_combined = pd.concat([highest_score_batsman, total_runs], axis=1)\n",
        "match_total_highest_combined_list = []\n",
        "for name in match_total_highest_combined.index:\n",
        "    match_total_highest_combined_list.append({\n",
        "        \"highest\": match_total_highest_combined.loc[name].tolist()[0],\n",
        "        \"total\": match_total_highest_combined.loc[name].tolist()[1]\n",
        "    })\n",
        "\n",
        "total_highest_df = pd.DataFrame.from_records(match_total_highest_combined_list)\n",
        "pyplot.scatter(total_highest_df.highest, total_highest_df.total)\n",
        "pyplot.xlabel(\"Highest runs by a batsman\")\n",
        "pyplot.ylabel(\"Total runs scored by the team\")\n",
        "pyplot.show()"
      ],
      "execution_count": 0,
      "outputs": [
        {
          "output_type": "display_data",
          "data": {
            "text/plain": [
              "<matplotlib.figure.Figure at 0x7f5469f87be0>"
            ],
            "image/png": "[encoded data removed]"
          },
          "metadata": {
            "tags": []
          }
        }
      ]
    },
    {
      "metadata": {
        "id": "2pCW2U-P2WFq",
        "colab_type": "text"
      },
      "cell_type": "markdown",
      "source": [
        "Let's calculate the **correlation coefficient** between X and Y."
      ]
    },
    {
      "metadata": {
        "id": "EKxW82Ya2WFr",
        "colab_type": "code",
        "colab": {},
        "outputId": "f203aa07-6718-49dd-fdf6-cd8756e909df"
      },
      "cell_type": "code",
      "source": [
        "# Use `.corr` method\n",
        "corr = total_highest_df.highest.corr(total_highest_df.total)\n",
        "print(f'Correlation between \"Highest runs by a batsman\" and \"Total runs scored by the team\" is {corr}')"
      ],
      "execution_count": 0,
      "outputs": [
        {
          "output_type": "stream",
          "text": [
            "Correlation between \"Highest runs by a batsman\" and \"Total runs scored by the team\" is 0.6580911324218259\n"
          ],
          "name": "stdout"
        }
      ]
    },
    {
      "metadata": {
        "id": "BdPVw37n2WFu",
        "colab_type": "text"
      },
      "cell_type": "markdown",
      "source": [
        "We get a correlation coefficient of **0.658**. As we can observe from the graph and infer from the number, there's a **positive correlation**."
      ]
    },
    {
      "metadata": {
        "id": "OCa4Hf6E2WFv",
        "colab_type": "text"
      },
      "cell_type": "markdown",
      "source": [
        "# Covariance\n",
        "\n",
        "Covariance is another measure of joint variability between two random variables. It is calculated as,\n",
        "\n",
        "\\begin{align}\n",
        "Covariance(x, y) = {1 \\over n - 1} \\cdot {\\sum_{i=1}^n (x_i - \\bar{x}) \\cdot (y_i - \\bar{y})} = E[XY] - \\mu_x\\mu_y\n",
        "\\end{align}\n",
        "\n",
        "Correlation in terms of covariance is given by,\n",
        "\n",
        "\\begin{align}\n",
        "Correlation(x, y) = {Covariance(x, y) \\over \\sigma_x \\cdot \\sigma_y}\n",
        "\\end{align}"
      ]
    },
    {
      "metadata": {
        "id": "vrPST-_-2WFw",
        "colab_type": "code",
        "colab": {},
        "outputId": "c29b778f-b2f8-4f0f-8c35-1496c1f736e5"
      },
      "cell_type": "code",
      "source": [
        "# Use `.cov` method\n",
        "cov = total_highest_df.highest.cov(total_highest_df.total)\n",
        "print(f'Covariance between \"Highest runs by a batsman\" and \"Total runs scored by the team\" is {cov}')"
      ],
      "execution_count": 0,
      "outputs": [
        {
          "output_type": "stream",
          "text": [
            "Covariance between \"Highest runs by a batsman\" and \"Total runs scored by the team\" is 440.2140352512807\n"
          ],
          "name": "stdout"
        }
      ]
    },
    {
      "metadata": {
        "id": "MxThvlAp2WF0",
        "colab_type": "text"
      },
      "cell_type": "markdown",
      "source": [
        "We can verify the same using the above formula."
      ]
    },
    {
      "metadata": {
        "id": "tExgUtjo2WF0",
        "colab_type": "code",
        "colab": {},
        "outputId": "9bf360bc-a852-4ad4-a377-7bf59317125d"
      },
      "cell_type": "code",
      "source": [
        "corr * total_highest_df.highest.std() * total_highest_df.total.std()"
      ],
      "execution_count": 0,
      "outputs": [
        {
          "output_type": "execute_result",
          "data": {
            "text/plain": [
              "440.21403525128102"
            ]
          },
          "metadata": {
            "tags": []
          },
          "execution_count": 6
        }
      ]
    },
    {
      "metadata": {
        "id": "E7I6ACEr2WF4",
        "colab_type": "text"
      },
      "cell_type": "markdown",
      "source": [
        "# Least squares regression\n",
        "\n",
        "We can fit an approximate line for the scatter plot by a method called **least squares regression**. This can be helful in predicting unknown values. \n",
        "\n",
        "A line is represented by the equation $y = mx + b$.\n",
        "\n",
        "Formula for the slope, **$m$** is given by,\n",
        "\n",
        "\\begin{align}\n",
        "m = r \\cdot {\\sigma_y \\over \\sigma_x}\n",
        "\\end{align}\n",
        "\n",
        "The line would go through the coordinates $(\\bar{x}, \\bar{y})$. Hence substituting $\\bar{x}$ and $\\bar{y}$ gives us the value for $b$.\n",
        "\n",
        "\\begin{align}\n",
        "b = \\bar{y} - m \\cdot \\bar{x}\n",
        "\\end{align}\n",
        "\n",
        "Let's find out the equation for the best-fit line for our scatter plot."
      ]
    },
    {
      "metadata": {
        "id": "MFWv2JER2WF5",
        "colab_type": "code",
        "colab": {},
        "outputId": "41554b56-f228-49b7-bee6-7daf3b5fd1d9"
      },
      "cell_type": "code",
      "source": [
        "# Step 1: Find slope\n",
        "m = corr * total_highest_df.total.std() / total_highest_df.highest.std()\n",
        "print(f'Slope, m = {m}')\n",
        "\n",
        "# Step 2: Find (x_bar, y_bar)\n",
        "x_bar, y_bar = total_highest_df.highest.mean(), total_highest_df.total.mean()\n",
        "print(f'(x_bar, y_bar) = ({x_bar}, {y_bar})')\n",
        "\n",
        "# Step 3: Find intercept\n",
        "b = y_bar - m * x_bar\n",
        "print(f'Intercept, b = {b}')\n",
        "\n",
        "# Equation of the line\n",
        "print(f'Equation of the line is y = {m:.2f}x + {b:.2f}')"
      ],
      "execution_count": 0,
      "outputs": [
        {
          "output_type": "stream",
          "text": [
            "Slope, m = 0.9850744638427754\n",
            "(x_bar, y_bar) = (56.96115107913669, 154.69064748201438)\n",
            "Intercept, b = 98.57967212286647\n",
            "Equation of the line is y = 0.99x + 98.58\n"
          ],
          "name": "stdout"
        }
      ]
    },
    {
      "metadata": {
        "id": "q0NG4LRF2WF9",
        "colab_type": "text"
      },
      "cell_type": "markdown",
      "source": [
        "Let's plot the line along with the scatter plot"
      ]
    },
    {
      "metadata": {
        "id": "aHYfK0FP2WF9",
        "colab_type": "code",
        "colab": {},
        "outputId": "27d8fd11-167e-4cf0-de79-85375ebe4207"
      },
      "cell_type": "code",
      "source": [
        "pyplot.scatter(total_highest_df.highest, total_highest_df.total)\n",
        "pyplot.xlabel(\"Highest runs by a batsman\")\n",
        "pyplot.ylabel(\"Total runs scored by the team\")\n",
        "\n",
        "# Two points (x1, y1), (x2, y2) that follows the eqn y = mx + b\n",
        "(x1, y1), (x2, y2) = (0, b), (175, 175*m + b)\n",
        "pyplot.plot([x1, x2], [y1, y2], 'r-')\n",
        "pyplot.show()"
      ],
      "execution_count": 0,
      "outputs": [
        {
          "output_type": "display_data",
          "data": {
            "text/plain": [
              "<matplotlib.figure.Figure at 0x7f54633d96d8>"
            ],
            "image/png": "[encoded data removed]"
          },
          "metadata": {
            "tags": []
          }
        }
      ]
    },
    {
      "metadata": {
        "id": "HcLB-PX42WGB",
        "colab_type": "text"
      },
      "cell_type": "markdown",
      "source": [
        "## Coefficient of determination (R-squared)\n",
        "\n",
        "**Coefficient of determination** or **R-squared** is a measure of how close the data are fitted in the regression line. It is calculated as the square of correlation coefficient (r)\n",
        "\n",
        "\\begin{align}\n",
        "Coefficient\\,of\\,determination = r^2\n",
        "\\end{align}"
      ]
    },
    {
      "metadata": {
        "id": "zxei-BV92WGC",
        "colab_type": "code",
        "colab": {},
        "outputId": "84fe9e12-feed-48a5-d02f-589a5ba36146"
      },
      "cell_type": "code",
      "source": [
        "r_squared = corr * corr\n",
        "print(f'R-squared = {r_squared:.2f}')"
      ],
      "execution_count": 0,
      "outputs": [
        {
          "output_type": "stream",
          "text": [
            "R-squared = 0.43\n"
          ],
          "name": "stdout"
        }
      ]
    },
    {
      "metadata": {
        "id": "CXPj-94D2WGG",
        "colab_type": "text"
      },
      "cell_type": "markdown",
      "source": [
        "i.e. we have a variability of **43%** in our best-fit line"
      ]
    },
    {
      "metadata": {
        "id": "iVEpSLyQ2WGH",
        "colab_type": "text"
      },
      "cell_type": "markdown",
      "source": [
        "## Root mean square error (RMSE)\n",
        "\n",
        "**Residuals** are a measure of how far from the regression line data points are. **Root mean square error (RMSE)** is the standard deviation of the residuals. It is given by,\n",
        "\n",
        "\\begin{align}\n",
        "RMSE = \\sqrt{{1 \\over n} \\cdot \\sum{(y_i - \\hat{y})^2}}\n",
        "\\end{align}\n",
        "\n",
        "In terms of R-squared,\n",
        "\n",
        "\\begin{align}\n",
        "RMSE = \\sqrt{1 - r^2} \\cdot \\sigma_y\n",
        "\\end{align}"
      ]
    },
    {
      "metadata": {
        "id": "Lk3_r6qY2WGJ",
        "colab_type": "code",
        "colab": {},
        "outputId": "2e21dff5-4c9d-43b9-f410-0750c592e67a"
      },
      "cell_type": "code",
      "source": [
        "rmse = math.sqrt(1 - r_squared) * total_highest_df.total.std()\n",
        "print(f'Root mean square error = {rmse}')"
      ],
      "execution_count": 0,
      "outputs": [
        {
          "output_type": "stream",
          "text": [
            "Root mean square error = 23.825378828608905\n"
          ],
          "name": "stdout"
        }
      ]
    },
    {
      "metadata": {
        "id": "I-Hyq1jk2WGV",
        "colab_type": "text"
      },
      "cell_type": "markdown",
      "source": [
        "While **RMSE** is an absolute measure, **R-squared** is a relative measure (value between 0 to 1)."
      ]
    }
  ]
}
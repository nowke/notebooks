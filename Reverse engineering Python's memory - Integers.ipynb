{
 "cells": [
  {
   "cell_type": "markdown",
   "metadata": {},
   "source": [
    "If you are using Python for more than a year, you would have heard about different variants of it. \n",
    "\n",
    "* **[CPython](https://www.python.org/)** - original implementation which can be downloaded from [python.org](https://www.python.org/). Python code is compiled to bytecode using **C**.\n",
    "* **[Jython](https://www.jython.org/)** - uses Java to convert the program to bytecode. Enables the program to run on JVM.\n",
    "* **[PyPy](https://pypy.org/)** - written in Python itself! It uses a Just-In-Time (JIT) compiler, which translates directly to machine code (instead of bytecode). Since native machine code is faster than running bytecode, PyPy provides speed improvements compared to CPython.\n",
    "\n",
    "Here we talk only about **CPython** variant.\n",
    "\n",
    "## Basic data types\n",
    "\n",
    "### Determining the size of primitive data types\n",
    "\n",
    "`C`, similar to other programming languages has built-in primitive data types - `int`, `char`, `long`, `bool` etc.\n",
    "\n",
    "Let's look at how we can find the size of each data types in your machine (I use 64-bit MacBook Air). We can use [`ctypes`](https://docs.python.org/3/library/ctypes.html) module."
   ]
  },
  {
   "cell_type": "code",
   "execution_count": 1,
   "metadata": {},
   "outputs": [
    {
     "name": "stdout",
     "output_type": "stream",
     "text": [
      "c_int    - 4 byte(s)\n",
      "c_char   - 1 byte(s)\n",
      "c_long   - 8 byte(s)\n",
      "c_bool   - 1 byte(s)\n",
      "c_voidp  - 8 byte(s)\n",
      "c_ulong  - 8 byte(s)\n"
     ]
    }
   ],
   "source": [
    "import ctypes\n",
    "\n",
    "types = [('int', ctypes.c_int), ('char', ctypes.c_char), \n",
    "         ('long', ctypes.c_long), ('bool', ctypes.c_bool), \n",
    "         ('voidp', ctypes.c_voidp), ('ulong', ctypes.c_ulong)]\n",
    "\n",
    "for ctype in types:\n",
    "    size = ctypes.sizeof(ctype[1])\n",
    "    print(f'c_{ctype[0]:<5}  - {size} byte(s)')"
   ]
  },
  {
   "cell_type": "markdown",
   "metadata": {},
   "source": [
    "### Variable representation\n",
    "\n",
    "In Python, when a variable is declared `var1 = 5`, `var1` doesn't hold the value `5` (like in C). Rather, `var1` points to the object containing value `5`. "
   ]
  },
  {
   "cell_type": "code",
   "execution_count": 2,
   "metadata": {},
   "outputs": [],
   "source": [
    "var1 = 5\n",
    "var2 = 5"
   ]
  },
  {
   "cell_type": "markdown",
   "metadata": {},
   "source": [
    "![Variable representation](var-repr.svg)\n",
    "\n",
    "### Accessing address of variables\n",
    "\n",
    "We can access the logical address of a variable using built-in the `id()` function."
   ]
  },
  {
   "cell_type": "code",
   "execution_count": 3,
   "metadata": {},
   "outputs": [
    {
     "data": {
      "text/plain": [
       "(4383274464, 4383274464, 4383274464)"
      ]
     },
     "execution_count": 3,
     "metadata": {},
     "output_type": "execute_result"
    }
   ],
   "source": [
    "id(var1), id(var2), id(5)"
   ]
  },
  {
   "cell_type": "markdown",
   "metadata": {},
   "source": [
    "`var1`, `var2` and `5` refer to the same object in memory. \n",
    "\n",
    "Let us inspect the address of integers from `1` to `10` and the difference between the addresses."
   ]
  },
  {
   "cell_type": "code",
   "execution_count": 4,
   "metadata": {},
   "outputs": [
    {
     "name": "stdout",
     "output_type": "stream",
     "text": [
      "Num = 1 , id = 4383274336, diff = 32\n",
      "Num = 2 , id = 4383274368, diff = 32\n",
      "Num = 3 , id = 4383274400, diff = 32\n",
      "Num = 4 , id = 4383274432, diff = 32\n",
      "Num = 5 , id = 4383274464, diff = 32\n",
      "Num = 6 , id = 4383274496, diff = 32\n",
      "Num = 7 , id = 4383274528, diff = 32\n",
      "Num = 8 , id = 4383274560, diff = 32\n",
      "Num = 9 , id = 4383274592, diff = 32\n",
      "Num = 10, id = 4383274624, diff = 32\n"
     ]
    }
   ],
   "source": [
    "def print_addr(nums):\n",
    "    for num in nums:\n",
    "        addr = id(num)\n",
    "        print(f'Num = {num:<2}, id = {addr}, diff = {addr - id(num-1)}')\n",
    "\n",
    "print_addr(range(1, 11))"
   ]
  },
  {
   "cell_type": "markdown",
   "metadata": {},
   "source": [
    "The numbers are placed in contiguously in memory. But is it true for large numbers? Let's try from `250` to `265`"
   ]
  },
  {
   "cell_type": "code",
   "execution_count": 5,
   "metadata": {},
   "outputs": [
    {
     "name": "stdout",
     "output_type": "stream",
     "text": [
      "Num = 250, id = 4383282304, diff = 32\n",
      "Num = 251, id = 4383282336, diff = 32\n",
      "Num = 252, id = 4383282368, diff = 32\n",
      "Num = 253, id = 4383282400, diff = 32\n",
      "Num = 254, id = 4383282432, diff = 32\n",
      "Num = 255, id = 4383282464, diff = 32\n",
      "Num = 256, id = 4383282496, diff = 32\n",
      "Num = 257, id = 4427858896, diff = 44576400\n",
      "Num = 258, id = 4427858832, diff = -32\n",
      "Num = 259, id = 4427858864, diff = -32\n",
      "Num = 260, id = 4427858896, diff = 64\n",
      "Num = 261, id = 4427858832, diff = -32\n",
      "Num = 262, id = 4427858864, diff = -32\n",
      "Num = 263, id = 4427858896, diff = 64\n",
      "Num = 264, id = 4427858832, diff = -32\n",
      "Num = 265, id = 4427858864, diff = -32\n"
     ]
    }
   ],
   "source": [
    "print_addr(range(250, 266))"
   ]
  },
  {
   "cell_type": "markdown",
   "metadata": {},
   "source": [
    "Let's try negative numbers"
   ]
  },
  {
   "cell_type": "code",
   "execution_count": 6,
   "metadata": {},
   "outputs": [
    {
     "name": "stdout",
     "output_type": "stream",
     "text": [
      "Num = -10, id = 4427136720, diff = -722112\n",
      "Num = -9, id = 4427858832, diff = -128\n",
      "Num = -8, id = 4427858960, diff = 722240\n",
      "Num = -7, id = 4427136720, diff = -722112\n",
      "Num = -6, id = 4427858832, diff = -128\n",
      "Num = -5, id = 4383274144, diff = -43862576\n",
      "Num = -4, id = 4383274176, diff = 32\n",
      "Num = -3, id = 4383274208, diff = 32\n",
      "Num = -2, id = 4383274240, diff = 32\n",
      "Num = -1, id = 4383274272, diff = 32\n",
      "Num = 0 , id = 4383274304, diff = 32\n",
      "Num = 1 , id = 4383274336, diff = 32\n",
      "Num = 2 , id = 4383274368, diff = 32\n",
      "Num = 3 , id = 4383274400, diff = 32\n",
      "Num = 4 , id = 4383274432, diff = 32\n"
     ]
    }
   ],
   "source": [
    "print_addr(range(-10, 5))"
   ]
  },
  {
   "cell_type": "markdown",
   "metadata": {},
   "source": [
    "We can observe that the numbers are contiguous from `-5` to `256`. This is because, Python pre-allocates memory for numbers from `-5` to `256` and creates the objects before your program starts.\n",
    "\n",
    "## Integers\n",
    "\n",
    "### Accessing integers from address\n",
    "\n",
    "Using `id()` function, we saw how to convert from **variable -> address**. How about the other way. Given an address, how to dig what's stored inside?"
   ]
  },
  {
   "cell_type": "code",
   "execution_count": 7,
   "metadata": {},
   "outputs": [
    {
     "name": "stdout",
     "output_type": "stream",
     "text": [
      "4383275744\n"
     ]
    }
   ],
   "source": [
    "x = 45\n",
    "addr_x = id(x)\n",
    "print(addr_x)"
   ]
  },
  {
   "cell_type": "markdown",
   "metadata": {},
   "source": [
    "The function `ctypes.<type>.from_address` takes `address` and returns the `<type>` value. Let's give `addr_x` to `c_int` type. Remember: We need to get `45` back from `addr_x`"
   ]
  },
  {
   "cell_type": "code",
   "execution_count": 8,
   "metadata": {},
   "outputs": [
    {
     "name": "stdout",
     "output_type": "stream",
     "text": [
      "c_int(81)\n",
      "c_int(88005808)\n",
      "c_int(1)\n",
      "c_int(45)\n"
     ]
    }
   ],
   "source": [
    "print(ctypes.c_int.from_address(addr_x))\n",
    "print(ctypes.c_int.from_address(addr_x + 8))\n",
    "print(ctypes.c_int.from_address(addr_x + 16))\n",
    "print(ctypes.c_int.from_address(addr_x + 24))"
   ]
  },
  {
   "cell_type": "code",
   "execution_count": 9,
   "metadata": {},
   "outputs": [
    {
     "data": {
      "text/plain": [
       "45"
      ]
     },
     "execution_count": 9,
     "metadata": {},
     "output_type": "execute_result"
    }
   ],
   "source": [
    "x_value = ctypes.c_int.from_address(addr_x + 24)\n",
    "x_value.value"
   ]
  },
  {
   "cell_type": "markdown",
   "metadata": {},
   "source": [
    "Why add `24` to the original address? An integer is stored similar to the below `struct` in C (actual struct maybe different). The allocated `32` bytes are divided as follows.\n",
    "\n",
    "```c\n",
    "struct {\n",
    "    long   ob_refcnt;  // long   = 8 bytes (c_long)\n",
    "    void*  ob_type;    // void*  = 8 bytes (c_voidp)\n",
    "    long   ob_size;    // long   = 8 bytes (c_long)\n",
    "    uint   ob_digit[]; // uint[] = (8 x ob_size) bytes (c_uint)\n",
    "}\n",
    "```\n",
    "\n",
    "For the digit `45`, array size of `ob_digit` will be `1`. Now let's unpack the above fields using the same `from_address` function and actually make sense of the returned values.\n",
    "\n",
    "####  1. `ob_refcnt` -> represents the total number of references made to the object"
   ]
  },
  {
   "cell_type": "code",
   "execution_count": 10,
   "metadata": {},
   "outputs": [
    {
     "name": "stdout",
     "output_type": "stream",
     "text": [
      "Total references made to 45 - 88\n"
     ]
    }
   ],
   "source": [
    "ob_refcnt_x = ctypes.c_long.from_address(addr_x)\n",
    "print(f'Total references made to {x} - {ob_refcnt_x.value}')"
   ]
  },
  {
   "cell_type": "markdown",
   "metadata": {},
   "source": [
    "#### 2. `ob_type` -> Points to the type object, in our case `int`\n",
    "\n",
    "Since `int` is an object, it has an address in memory!"
   ]
  },
  {
   "cell_type": "code",
   "execution_count": 11,
   "metadata": {},
   "outputs": [
    {
     "data": {
      "text/plain": [
       "4382973104"
      ]
     },
     "execution_count": 11,
     "metadata": {},
     "output_type": "execute_result"
    }
   ],
   "source": [
    "id(int)"
   ]
  },
  {
   "cell_type": "code",
   "execution_count": 12,
   "metadata": {},
   "outputs": [
    {
     "data": {
      "text/plain": [
       "4382973104"
      ]
     },
     "execution_count": 12,
     "metadata": {},
     "output_type": "execute_result"
    }
   ],
   "source": [
    "ob_type_x = ctypes.c_void_p.from_address(addr_x + 8)\n",
    "ob_type_x.value"
   ]
  },
  {
   "cell_type": "markdown",
   "metadata": {},
   "source": [
    "Observe that, `id(int)` is same as `ob_type_x.value`\n",
    "\n",
    "#### 3. `ob_size` -> size of `ob_digit` array.\n",
    "\n",
    "We will see about its use further below"
   ]
  },
  {
   "cell_type": "code",
   "execution_count": 13,
   "metadata": {},
   "outputs": [
    {
     "data": {
      "text/plain": [
       "1"
      ]
     },
     "execution_count": 13,
     "metadata": {},
     "output_type": "execute_result"
    }
   ],
   "source": [
    "ob_size_x = ctypes.c_long.from_address(addr_x + 16)\n",
    "ob_size_x.value"
   ]
  },
  {
   "cell_type": "markdown",
   "metadata": {},
   "source": [
    "#### 4. `ob_digit[]`"
   ]
  },
  {
   "cell_type": "code",
   "execution_count": 14,
   "metadata": {},
   "outputs": [
    {
     "data": {
      "text/plain": [
       "45"
      ]
     },
     "execution_count": 14,
     "metadata": {},
     "output_type": "execute_result"
    }
   ],
   "source": [
    "ob_digit_x = ctypes.c_uint.from_address(addr_x + 24)\n",
    "ob_digit_x.value"
   ]
  },
  {
   "cell_type": "code",
   "execution_count": 15,
   "metadata": {},
   "outputs": [
    {
     "name": "stdout",
     "output_type": "stream",
     "text": [
      "\n",
      "Integer 45 is represented as,\n",
      "\n",
      "struct_ {\n",
      "    long   ob_refcnt  = 91\n",
      "    void*  ob_type    = 4382973104\n",
      "    long   ob_size    = 1\n",
      "    uint   ob_digit[] = 45\n",
      "}\n",
      "\n"
     ]
    }
   ],
   "source": [
    "print(f'''\n",
    "Integer {x} is represented as,\n",
    "\n",
    "struct_ {{\n",
    "    long   ob_refcnt  = {ctypes.c_long.from_address(addr_x).value}\n",
    "    void*  ob_type    = {ctypes.c_long.from_address(addr_x + 8).value}\n",
    "    long   ob_size    = {ctypes.c_long.from_address(addr_x + 16).value}\n",
    "    uint   ob_digit[] = {ctypes.c_long.from_address(addr_x + 24).value}\n",
    "}}\n",
    "''')"
   ]
  },
  {
   "cell_type": "markdown",
   "metadata": {},
   "source": [
    "### Big integers\n",
    "\n",
    "In Python, we can declare and operate on integers of size as big as you want! "
   ]
  },
  {
   "cell_type": "code",
   "execution_count": 16,
   "metadata": {},
   "outputs": [
    {
     "data": {
      "text/plain": [
       "10715086071862673209484250490600018105614048117055336074437503883703510511249361224931983788156958581275946729175531468251871452856923140435984577574698574803934567774824230985421074605062371141877954182153046474983581941267398767559165543946077062914571196477686542167660429831652624386837205668069376"
      ]
     },
     "execution_count": 16,
     "metadata": {},
     "output_type": "execute_result"
    }
   ],
   "source": [
    "big_x = 2**1000\n",
    "big_x"
   ]
  },
  {
   "cell_type": "code",
   "execution_count": 17,
   "metadata": {},
   "outputs": [
    {
     "data": {
      "text/plain": [
       "10715086071862673209484250490600018105614048117055336074437503883703510511249361224931983788156958581275946729175531468251871452856923140435984577574698574803934567774824230985421074605062371141877954182153046474983581941267398767559165543946077062914571196477686542167660429831652624386837205668069377"
      ]
     },
     "execution_count": 17,
     "metadata": {},
     "output_type": "execute_result"
    }
   ],
   "source": [
    "big_x + 1"
   ]
  },
  {
   "cell_type": "markdown",
   "metadata": {},
   "source": [
    "How does Python store this value? It uses the fields `ob_size` and `ob_digit[]`. The formula for calculating the integer representation stored inside `ob_digit` is as follows\n",
    "\n",
    "$$\n",
    "\\text{Value} = \\sum_{i=0}^{n-1} \\text{ob_digit[i]} \\times (1024^3)^i\n",
    "$$\n",
    "\n",
    "where `n = ob_size`\n",
    "\n",
    "**Example 1**\n",
    "\n",
    "```\n",
    "ob_size = 1\n",
    "ob_digit = [45]\n",
    "\n",
    "value = ob_digit[0] x (1024^3)^0\n",
    "      = 45 x 1\n",
    "      = 45\n",
    "```\n",
    "\n",
    "**Example 2**\n",
    "\n",
    "```\n",
    "ob_size  = 2\n",
    "ob_digit = [2, 3]\n",
    "\n",
    "value = (ob_digit[0] x (1024^3)^0) +\n",
    "        (ob_digit[1] x (1024^3)^1)\n",
    "      = (2 x 1) + (3 x 1024^3)\n",
    "      = 3,221,225,474\n",
    "```\n",
    "\n",
    "Let's verify **Example 2**"
   ]
  },
  {
   "cell_type": "code",
   "execution_count": 18,
   "metadata": {},
   "outputs": [
    {
     "data": {
      "text/plain": [
       "(3221225474, 4427859248)"
      ]
     },
     "execution_count": 18,
     "metadata": {},
     "output_type": "execute_result"
    }
   ],
   "source": [
    "y = 3221225474\n",
    "addr_y = id(y)\n",
    "y, addr_y"
   ]
  },
  {
   "cell_type": "code",
   "execution_count": 19,
   "metadata": {},
   "outputs": [
    {
     "data": {
      "text/plain": [
       "2"
      ]
     },
     "execution_count": 19,
     "metadata": {},
     "output_type": "execute_result"
    }
   ],
   "source": [
    "ob_size_y = ctypes.c_long.from_address(addr_y + 16)\n",
    "ob_size_y.value"
   ]
  },
  {
   "cell_type": "code",
   "execution_count": 20,
   "metadata": {},
   "outputs": [
    {
     "data": {
      "text/plain": [
       "c_uint(2)"
      ]
     },
     "execution_count": 20,
     "metadata": {},
     "output_type": "execute_result"
    }
   ],
   "source": [
    "ob_digit_y_0 = ctypes.c_uint.from_address(addr_y + 24)\n",
    "ob_digit_y_0"
   ]
  },
  {
   "cell_type": "code",
   "execution_count": 21,
   "metadata": {},
   "outputs": [
    {
     "data": {
      "text/plain": [
       "c_uint(3)"
      ]
     },
     "execution_count": 21,
     "metadata": {},
     "output_type": "execute_result"
    }
   ],
   "source": [
    "ob_digit_y_1 = ctypes.c_uint.from_address(addr_y + 28)\n",
    "ob_digit_y_1"
   ]
  },
  {
   "cell_type": "markdown",
   "metadata": {},
   "source": [
    "Ta! We got back the values `ob_size = 2` and `ob_digit = [2, 3]`"
   ]
  },
  {
   "cell_type": "markdown",
   "metadata": {},
   "source": [
    "### Size of an integer\n",
    "\n",
    "Both `x` and `y` take `32 bytes` of memory. How about even bigger integers? We can make use of `sys.getsizeof` function"
   ]
  },
  {
   "cell_type": "code",
   "execution_count": 22,
   "metadata": {},
   "outputs": [
    {
     "data": {
      "text/plain": [
       "(28, 32)"
      ]
     },
     "execution_count": 22,
     "metadata": {},
     "output_type": "execute_result"
    }
   ],
   "source": [
    "import sys\n",
    "\n",
    "sys.getsizeof(x), sys.getsizeof(y)"
   ]
  },
  {
   "cell_type": "code",
   "execution_count": 23,
   "metadata": {},
   "outputs": [
    {
     "name": "stdout",
     "output_type": "stream",
     "text": [
      "Number = 10^10 , Size = 32\n",
      "Number = 10^20 , Size = 36\n",
      "Number = 10^30 , Size = 40\n",
      "Number = 10^40 , Size = 44\n",
      "Number = 10^50 , Size = 48\n",
      "Number = 10^60 , Size = 52\n",
      "Number = 10^70 , Size = 56\n",
      "Number = 10^80 , Size = 60\n",
      "Number = 10^90 , Size = 64\n",
      "Number = 10^100, Size = 72\n"
     ]
    }
   ],
   "source": [
    "for power in range(10, 101, 10):\n",
    "    num = 10 ** power\n",
    "    size = sys.getsizeof(num)\n",
    "    print(f'Number = 10^{power:<3}, Size = {size}')"
   ]
  },
  {
   "cell_type": "markdown",
   "metadata": {},
   "source": [
    "### Recreating integers\n",
    "\n",
    "We made use of `from_address` to retrieve various parts of an integer. Let's actually write a custom structure that takes an integer using [`ctypes.Structure`](https://docs.python.org/3/library/ctypes.html#ctypes.Structure) abstract base class."
   ]
  },
  {
   "cell_type": "code",
   "execution_count": 24,
   "metadata": {},
   "outputs": [],
   "source": [
    "class IntStructure(ctypes.Structure):\n",
    "    _fields_ = [(\"ob_refcnt\", ctypes.c_long),\n",
    "                (\"ob_type\"  , ctypes.c_void_p),\n",
    "                (\"ob_size\"  , ctypes.c_long),\n",
    "                (\"ob_digit\" , ctypes.c_uint * 0)]\n",
    "    \n",
    "    def __repr__(self):\n",
    "        digits   = self.get_digits()\n",
    "        int_size = self.calc_size()\n",
    "        int_num  = self.calc_integer(digits)\n",
    "        return (f'Int(ob_refcnt={self.ob_refcnt},\\n'\n",
    "                f'    ob_size={self.ob_size},\\n'\n",
    "                f'    ob_digit={digits},\\n'\n",
    "                f'    int_size={int_size} bytes,\\n'\n",
    "                f'    int_num={int_num})')\n",
    "    \n",
    "    def get_digits(self):\n",
    "        \"\"\"Internal representation of `ob_digit` as a list\"\"\"\n",
    "        \n",
    "        digits = ctypes.cast(\n",
    "            ctypes.byref(self.ob_digit),\n",
    "            ctypes.POINTER(ctypes.c_uint * self.ob_size)\n",
    "        ).contents\n",
    "        \n",
    "        return list(digits)\n",
    "    \n",
    "    def calc_size(self):\n",
    "        \"\"\"Number of bytes consumed by the integer\"\"\"\n",
    "        \n",
    "        size = (ctypes.sizeof(ctypes.c_long)   + \n",
    "                ctypes.sizeof(ctypes.c_void_p) +\n",
    "                ctypes.sizeof(ctypes.c_long)   + \n",
    "                ctypes.sizeof(ctypes.c_long))\n",
    "        if self.ob_size > 2:\n",
    "            size += (self.ob_size - 2) * ctypes.sizeof(ctypes.c_uint)\n",
    "        return size\n",
    "    \n",
    "    def calc_integer(self, digits):\n",
    "        \"\"\"Retrieve the actual integer\"\"\"\n",
    "        \n",
    "        return sum(\n",
    "            [digit * (1024**3)**i\n",
    "             for i, digit in enumerate(digits)]\n",
    "        )"
   ]
  },
  {
   "cell_type": "code",
   "execution_count": 25,
   "metadata": {},
   "outputs": [
    {
     "data": {
      "text/plain": [
       "Int(ob_refcnt=77,\n",
       "    ob_size=1,\n",
       "    ob_digit=[50],\n",
       "    int_size=32 bytes,\n",
       "    int_num=50)"
      ]
     },
     "execution_count": 25,
     "metadata": {},
     "output_type": "execute_result"
    }
   ],
   "source": [
    "a = 50\n",
    "addr_a = id(a)\n",
    "int_a = IntStructure.from_address(addr_a)\n",
    "int_a"
   ]
  },
  {
   "cell_type": "code",
   "execution_count": 26,
   "metadata": {},
   "outputs": [
    {
     "data": {
      "text/plain": [
       "Int(ob_refcnt=1,\n",
       "    ob_size=5,\n",
       "    ob_digit=[0, 668304384, 172751547, 175927511, 7523],\n",
       "    int_size=44 bytes,\n",
       "    int_num=10000000000000000000000000000000000000000)"
      ]
     },
     "execution_count": 26,
     "metadata": {},
     "output_type": "execute_result"
    }
   ],
   "source": [
    "b = 10**40\n",
    "addr_b = id(b)\n",
    "int_b = IntStructure.from_address(addr_b)\n",
    "int_b"
   ]
  },
  {
   "cell_type": "markdown",
   "metadata": {},
   "source": [
    "### Changing the value of an integer\n",
    "\n",
    "Referred from [r/Python](https://www.reddit.com/r/Python/comments/2441cv/can_you_change_the_value_of_1/)\n",
    "\n",
    "> Do not do this anywhere in your actual programs! Very bad things can happen\n",
    "\n",
    "Let's modify the integer `120`"
   ]
  },
  {
   "cell_type": "code",
   "execution_count": 27,
   "metadata": {},
   "outputs": [],
   "source": [
    "# Define a simpler structure (similar to IntStructure)\n",
    "\n",
    "class MyInt(ctypes.Structure):\n",
    "    _fields_ = [(\"ob_refcnt\", ctypes.c_long),\n",
    "                (\"ob_type\"  , ctypes.c_void_p),\n",
    "                (\"ob_size\"  , ctypes.c_ulong),\n",
    "                (\"ob_digit\" , ctypes.c_long)]"
   ]
  },
  {
   "cell_type": "code",
   "execution_count": 28,
   "metadata": {},
   "outputs": [],
   "source": [
    "addr_120 = id(120)\n",
    "struct_120 = MyInt.from_address(addr_120)\n",
    "struct_120.ob_digit = 25"
   ]
  },
  {
   "cell_type": "code",
   "execution_count": 29,
   "metadata": {},
   "outputs": [
    {
     "data": {
      "text/plain": [
       "25"
      ]
     },
     "execution_count": 29,
     "metadata": {},
     "output_type": "execute_result"
    }
   ],
   "source": [
    "120"
   ]
  },
  {
   "cell_type": "code",
   "execution_count": 30,
   "metadata": {},
   "outputs": [
    {
     "data": {
      "text/plain": [
       "50"
      ]
     },
     "execution_count": 30,
     "metadata": {},
     "output_type": "execute_result"
    }
   ],
   "source": [
    "120 + 120"
   ]
  },
  {
   "cell_type": "code",
   "execution_count": 31,
   "metadata": {},
   "outputs": [
    {
     "data": {
      "text/plain": [
       "25"
      ]
     },
     "execution_count": 31,
     "metadata": {},
     "output_type": "execute_result"
    }
   ],
   "source": [
    "60 + 60"
   ]
  }
 ],
 "metadata": {
  "kernelspec": {
   "display_name": "Python 3",
   "language": "python",
   "name": "python3"
  },
  "language_info": {
   "codemirror_mode": {
    "name": "ipython",
    "version": 3
   },
   "file_extension": ".py",
   "mimetype": "text/x-python",
   "name": "python",
   "nbconvert_exporter": "python",
   "pygments_lexer": "ipython3",
   "version": "3.6.6"
  }
 },
 "nbformat": 4,
 "nbformat_minor": 2
}

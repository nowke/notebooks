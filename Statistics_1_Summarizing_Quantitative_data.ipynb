{
  "nbformat": 4,
  "nbformat_minor": 0,
  "metadata": {
    "colab": {
      "name": "Statistics - 1. Summarizing Quantitative data.ipynb",
      "version": "0.3.2",
      "provenance": [],
      "toc_visible": true
    },
    "kernelspec": {
      "display_name": "Python 3",
      "language": "python",
      "name": "python3"
    }
  },
  "cells": [
    {
      "cell_type": "markdown",
      "metadata": {
        "id": "view-in-github",
        "colab_type": "text"
      },
      "source": [
        "[View in Colaboratory](https://colab.research.google.com/github/nowke/notebooks/blob/master/Statistics_1_Summarizing_Quantitative_data.ipynb)"
      ]
    },
    {
      "metadata": {
        "id": "kK6D8BV72-w9",
        "colab_type": "text"
      },
      "cell_type": "markdown",
      "source": [
        "# Introduction\n",
        "**Quantitative data** is information that can be measured in real numbers. Examples include,\n",
        "* Height of a person\n",
        "* Speed of Tesla cars\n",
        "* Runs scored by a batsman\n",
        "* Wickets taken by a bowler\n",
        "\n",
        "In this notebook, we'll explore various statistical concepts involved in **summarizing quantitative data** with the help of **Indian Premier League (IPL)** dataset.\n",
        "\n",
        "The data consists of two CSV files for all IPL matches played from  **2008 - 2018** (11 seasons)\n",
        "* **`matches.csv`** - match-by-match data\n",
        "* **`deliveries.csv`** - ball-by-ball data\n",
        "\n",
        "Let's setup `pandas` dataframes for the above files and import necessary libraries."
      ]
    },
    {
      "metadata": {
        "id": "C0NQSYun2-w_",
        "colab_type": "code",
        "colab": {}
      },
      "cell_type": "code",
      "source": [
        "import numpy as np\n",
        "import pandas as pd\n",
        "import os\n",
        "\n",
        "matches    = pd.read_csv('../input/matches.csv')\n",
        "deliveries = pd.read_csv('../input/deliveries.csv')"
      ],
      "execution_count": 0,
      "outputs": []
    },
    {
      "metadata": {
        "id": "rL0kNM6Y2-xD",
        "colab_type": "text"
      },
      "cell_type": "markdown",
      "source": [
        "Let's inspect the `matches` data before stepping into the concepts"
      ]
    },
    {
      "metadata": {
        "id": "czez3x_92-xE",
        "colab_type": "code",
        "colab": {}
      },
      "cell_type": "code",
      "source": [
        "print(f'Number of rows    = {len(matches)}')\n",
        "print(f'Number of columns = {len(matches.columns)}')\n",
        "matches.head()"
      ],
      "execution_count": 0,
      "outputs": []
    },
    {
      "metadata": {
        "id": "w0rQT7bl2-xH",
        "colab_type": "text"
      },
      "cell_type": "markdown",
      "source": [
        "# Measuring center\n",
        "\n",
        "First step often learnt in [descriptive statistics](https://en.wikipedia.org/wiki/Descriptive_statistics) is to measure the center of given data. There are various ways to measure the center. We'll go through some of them.\n",
        "\n",
        "Let's get the data ready for our experiments. \n",
        "* **`win_by_runs`** columns represents the margin in which a team has won against the opponent, if the team batting first has won.\n",
        "* i.e. If **`team1`** scores **200** runs and **`team2`** scores **150** runs, **`team1`** won the match by **50 runs** - If **`team1`** bats first\n",
        "\n",
        "Hence, we have to exclude all instances of **`win_by_wickets`** cases, i.e. **`win_by_runs = 0`**"
      ]
    },
    {
      "metadata": {
        "id": "gPLXib0i2-xH",
        "colab_type": "code",
        "colab": {}
      },
      "cell_type": "code",
      "source": [
        "win_by_runs_data = matches[matches['win_by_runs'] > 0].win_by_runs\n",
        "print(f'Number of rows = {len(win_by_runs_data)}')\n",
        "win_by_runs_data.head()"
      ],
      "execution_count": 0,
      "outputs": []
    },
    {
      "metadata": {
        "id": "UZaZch6l2-xK",
        "colab_type": "text"
      },
      "cell_type": "markdown",
      "source": [
        "We'll discuss about 3 methods of measuring center - ***Mean***, ***Median*** and ***Mode***"
      ]
    },
    {
      "metadata": {
        "id": "o_3o9xox2-xL",
        "colab_type": "text"
      },
      "cell_type": "markdown",
      "source": [
        "## Mean\n",
        "\n",
        "**Mean** (usuallly refered to **Arithmetic Mean**, also called **Average**) is calculated as **sum** of all numbers in the dataset and dividing by the **total** number of values\n",
        "\n",
        "\\begin{align}\n",
        "Arithmetic\\,mean = {Sum\\,of\\,all\\,numbers \\over No.\\,of\\,values\\,in\\,the \\,set}\\,\\,\\,\\,or\\, \n",
        "\\end{align}\n",
        "\n",
        "\\begin{align}\n",
        "\\bar{x} = {\\sum_{i=i}^{n} x_{i} \\over n}\n",
        "\\end{align}\n",
        "\n",
        "Arithmetic mean of our data is calculated as,\n",
        "\n",
        "`mean = (35 + 15 + 97 + 17 + ...) / 315`\n",
        "\n",
        "Let's do that in code."
      ]
    },
    {
      "metadata": {
        "id": "_h4clIqF2-xL",
        "colab_type": "code",
        "colab": {}
      },
      "cell_type": "code",
      "source": [
        "win_by_runs_rows = len(win_by_runs_data) # No. of values in the set (n)\n",
        "win_by_runs_sum = sum(win_by_runs_data) # Sum of all numbers\n",
        "\n",
        "print(f'Sum of all numbers = {win_by_runs_sum}, No. of values in the set = {win_by_runs_rows}')\n",
        "\n",
        "win_by_runs_arithmetic_mean = win_by_runs_sum / win_by_runs_rows # Calculating arithmetic mean\n",
        "print(f'Arithmetic mean = {win_by_runs_arithmetic_mean}')"
      ],
      "execution_count": 0,
      "outputs": []
    },
    {
      "metadata": {
        "id": "fghBpL5v2-xO",
        "colab_type": "text"
      },
      "cell_type": "markdown",
      "source": [
        "We can verify the number with the help of `mean()` method in `pandas`"
      ]
    },
    {
      "metadata": {
        "id": "pV2-yt0_2-xQ",
        "colab_type": "code",
        "colab": {}
      },
      "cell_type": "code",
      "source": [
        "win_by_runs_arithmetic_mean_verify = win_by_runs_data.mean()\n",
        "print(f'Arithmetic mean (verify) = {win_by_runs_arithmetic_mean_verify}')"
      ],
      "execution_count": 0,
      "outputs": []
    },
    {
      "metadata": {
        "id": "0o55nC0R2-xS",
        "colab_type": "text"
      },
      "cell_type": "markdown",
      "source": [
        "### Geometric Mean\n",
        "\n",
        "Another type of mean is **geometric mean**. It is calculated as **Nth root** of **product** of all the numbers, where N is the total number of values in the dataset\n",
        "\n",
        "\\begin{align}\n",
        "Geometric\\,mean = \\sqrt[n]{product\\,of\\,all\\,numbers}\n",
        "\\end{align}\n",
        "\n",
        "\\begin{align}\n",
        "\\bar{x}_{geom} = \\sqrt[n]{\\prod_{i=1}^n x_i}\n",
        "\\end{align}\n",
        "\n",
        "Geometric mean of our data is calculated as,\n",
        "\n",
        "`geometric_mean = 315thRoot(35 x 15 x 97 x 17 x ...)`"
      ]
    },
    {
      "metadata": {
        "id": "md0KnkdT2-xT",
        "colab_type": "code",
        "colab": {}
      },
      "cell_type": "code",
      "source": [
        "from scipy.stats.mstats import gmean\n",
        "\n",
        "win_by_runs_geo_mean = gmean(win_by_runs_data)\n",
        "print(f'Geometric mean = {win_by_runs_geo_mean}')"
      ],
      "execution_count": 0,
      "outputs": []
    },
    {
      "metadata": {
        "id": "DSZ-a4tN2-xW",
        "colab_type": "text"
      },
      "cell_type": "markdown",
      "source": [
        "## Meadian\n",
        "\n",
        "**Median** is the middle value, when the data is sorted in ascending order.\n",
        "\n",
        "For example purpose, let's take first 10 entries of the data."
      ]
    },
    {
      "metadata": {
        "id": "6HY1EN1M2-xW",
        "colab_type": "code",
        "colab": {}
      },
      "cell_type": "code",
      "source": [
        "win_by_runs_10 = list(win_by_runs_data[:10])\n",
        "print(win_by_runs_10)"
      ],
      "execution_count": 0,
      "outputs": []
    },
    {
      "metadata": {
        "id": "Si0Ns4pp2-xa",
        "colab_type": "code",
        "colab": {}
      },
      "cell_type": "code",
      "source": [
        ""
      ],
      "execution_count": 0,
      "outputs": []
    }
  ]
}
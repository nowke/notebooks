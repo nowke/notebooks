{
  "nbformat": 4,
  "nbformat_minor": 0,
  "metadata": {
    "colab": {
      "name": "Statistics - 1. Summarizing Quantitative data.ipynb",
      "version": "0.3.2",
      "provenance": []
    },
    "kernelspec": {
      "display_name": "Python 3",
      "language": "python",
      "name": "python3"
    }
  },
  "cells": [
    {
      "cell_type": "markdown",
      "metadata": {
        "id": "view-in-github",
        "colab_type": "text"
      },
      "source": [
        "[View in Colaboratory](https://colab.research.google.com/github/nowke/notebooks/blob/master/Statistics_1_Summarizing_Quantitative_data.ipynb)"
      ]
    },
    {
      "metadata": {
        "id": "RTcpkabMAvdL",
        "colab_type": "text"
      },
      "cell_type": "markdown",
      "source": [
        "# Introduction\n",
        "**Quantitative data** is information that can be measured in real numbers. Examples include,\n",
        "* Height of a person\n",
        "* Speed of Tesla cars\n",
        "* Runs scored by a batsman\n",
        "* Wickets taken by a bowler\n",
        "\n",
        "In this notebook, we'll explore various statistical concepts involved in **summarizing quantitative data** with the help of **Indian Premier League (IPL)** dataset.\n",
        "\n",
        "The data consists of two CSV files for all IPL matches played from  **2008 - 2018** (11 seasons)\n",
        "* **`matches.csv`** - match-by-match data\n",
        "* **`deliveries.csv`** - ball-by-ball data\n",
        "\n",
        "Let's setup `pandas` dataframes for the above files and import necessary libraries."
      ]
    },
    {
      "metadata": {
        "id": "jg0sWbp1AvdN",
        "colab_type": "code",
        "colab": {}
      },
      "cell_type": "code",
      "source": [
        "import numpy as np\n",
        "import pandas as pd\n",
        "import os\n",
        "\n",
        "matches    = pd.read_csv('../input/matches.csv')\n",
        "deliveries = pd.read_csv('../input/deliveries.csv')"
      ],
      "execution_count": 0,
      "outputs": []
    },
    {
      "metadata": {
        "id": "2c0Dpu6nAvdR",
        "colab_type": "text"
      },
      "cell_type": "markdown",
      "source": [
        "Let's inspect the `matches` data before stepping into the concepts"
      ]
    },
    {
      "metadata": {
        "id": "Od4US7ehAvdS",
        "colab_type": "code",
        "colab": {}
      },
      "cell_type": "code",
      "source": [
        "print(f'Number of rows    = {len(matches)}')\n",
        "print(f'Number of columns = {len(matches.columns)}')\n",
        "matches.head()"
      ],
      "execution_count": 0,
      "outputs": []
    },
    {
      "metadata": {
        "id": "2DxlvPRwAvdV",
        "colab_type": "text"
      },
      "cell_type": "markdown",
      "source": [
        "# Measuring center\n",
        "\n",
        "First step often learnt in [descriptive statistics](https://en.wikipedia.org/wiki/Descriptive_statistics) is to measure the center of given data. There are various ways to measure the center. We'll go through some of them.\n",
        "\n",
        "Let's get the data ready for our experiments. \n",
        "* **`win_by_runs`** columns represents the margin in which a team has won against the opponent, if the team batting first has won.\n",
        "* i.e. If **`team1`** scores **200** runs and **`team2`** scores **150** runs, **`team1`** won the match by **50 runs** - If **`team1`** bats first\n",
        "\n",
        "Hence, we have to exclude all instances of **`win_by_wickets`** cases, i.e. **`win_by_runs = 0`**"
      ]
    },
    {
      "metadata": {
        "id": "yblLAkpaAvdW",
        "colab_type": "code",
        "colab": {},
        "outputId": "432339c8-f593-44ef-c6d6-3c4a015d00cc"
      },
      "cell_type": "code",
      "source": [
        "win_by_runs_data = matches[matches['win_by_runs'] > 0].win_by_runs\n",
        "print(f'Number of rows = {len(win_by_runs_data)}')\n",
        "win_by_runs_data.head()"
      ],
      "execution_count": 0,
      "outputs": [
        {
          "output_type": "stream",
          "text": [
            "Number of rows = 315\n"
          ],
          "name": "stdout"
        },
        {
          "output_type": "execute_result",
          "data": {
            "text/plain": [
              "0     35\n",
              "4     15\n",
              "8     97\n",
              "13    17\n",
              "14    51\n",
              "Name: win_by_runs, dtype: int64"
            ]
          },
          "metadata": {
            "tags": []
          },
          "execution_count": 3
        }
      ]
    },
    {
      "metadata": {
        "id": "iF902gWAAvdc",
        "colab_type": "text"
      },
      "cell_type": "markdown",
      "source": [
        "We'll discuss about 3 methods of measuring center - ***Mean***, ***Median*** and ***Mode***"
      ]
    },
    {
      "metadata": {
        "id": "w64BNKwuAvdc",
        "colab_type": "text"
      },
      "cell_type": "markdown",
      "source": [
        "## Mean\n",
        "\n",
        "**Mean** (usuallly refered to **Arithmetic Mean**, also called **Average**) is calculated as **sum** of all numbers in the dataset and dividing by the **total** number of values\n",
        "\n",
        "### Arithmetic Mean\n",
        "\n",
        "\\begin{align}\n",
        "Arithmetic\\,mean = {Sum\\,of\\,all\\,numbers \\over No.\\,of\\,values\\,in\\,the \\,set}\\,\\,\\,\\,or\\, \n",
        "\\end{align}\n",
        "\n",
        "\\begin{align}\n",
        "\\bar{x} = {\\sum_{i=i}^{n} x_{i} \\over n}\n",
        "\\end{align}\n",
        "\n",
        "Arithmetic mean of our data is calculated as,\n",
        "\n",
        "`mean = (35 + 15 + 97 + 17 + ...) / 315`\n",
        "\n",
        "Let's do that in code."
      ]
    },
    {
      "metadata": {
        "id": "lvGzLn_-Avdd",
        "colab_type": "code",
        "colab": {}
      },
      "cell_type": "code",
      "source": [
        "win_by_runs_rows = len(win_by_runs_data) # No. of values in the set (n)\n",
        "win_by_runs_sum = sum(win_by_runs_data) # Sum of all numbers\n",
        "\n",
        "print(f'Sum of all numbers = {win_by_runs_sum}, No. of values in the set = {win_by_runs_rows}')\n",
        "\n",
        "win_by_runs_arithmetic_mean = win_by_runs_sum / win_by_runs_rows # Calculating arithmetic mean\n",
        "print(f'Arithmetic mean = {win_by_runs_arithmetic_mean}')"
      ],
      "execution_count": 0,
      "outputs": []
    },
    {
      "metadata": {
        "id": "oYzKUkiEAvdg",
        "colab_type": "text"
      },
      "cell_type": "markdown",
      "source": [
        "We can verify the number with the help of `mean()` method in `pandas`"
      ]
    },
    {
      "metadata": {
        "id": "nls9Npg7Avdh",
        "colab_type": "code",
        "colab": {},
        "outputId": "cc5ab3cb-678e-459d-e7cc-4a86ff5f7e97"
      },
      "cell_type": "code",
      "source": [
        "win_by_runs_arithmetic_mean_verify = win_by_runs_data.mean()\n",
        "print(f'Arithmetic mean (verify) = {win_by_runs_arithmetic_mean_verify}')"
      ],
      "execution_count": 0,
      "outputs": [
        {
          "output_type": "stream",
          "text": [
            "Arithmetic mean (verify) = 29.76825396825397\n"
          ],
          "name": "stdout"
        }
      ]
    },
    {
      "metadata": {
        "id": "4Eu6aX1gAvdl",
        "colab_type": "text"
      },
      "cell_type": "markdown",
      "source": [
        "### Geometric Mean\n",
        "\n",
        "Another type of mean is **geometric mean**. It is calculated as **Nth root** of **product** of all the numbers, where N is the total number of values in the dataset\n",
        "\n",
        "\\begin{align}\n",
        "Geometric\\,mean = \\sqrt[n]{product\\,of\\,all\\,numbers}\n",
        "\\end{align}\n",
        "\n",
        "\\begin{align}\n",
        "\\bar{x}_{geom} = \\sqrt[n]{\\prod_{i=1}^n x_i}\n",
        "\\end{align}\n",
        "\n",
        "Geometric mean of our data is calculated as,\n",
        "\n",
        "`geometric_mean = 315thRoot(35 x 15 x 97 x 17 x ...)`"
      ]
    },
    {
      "metadata": {
        "id": "NMj4NeroAvdl",
        "colab_type": "code",
        "colab": {}
      },
      "cell_type": "code",
      "source": [
        "from scipy.stats.mstats import gmean\n",
        "\n",
        "win_by_runs_geo_mean = gmean(win_by_runs_data)\n",
        "print(f'Geometric mean = {win_by_runs_geo_mean}')"
      ],
      "execution_count": 0,
      "outputs": []
    },
    {
      "metadata": {
        "id": "lxPCnQKMAvdp",
        "colab_type": "text"
      },
      "cell_type": "markdown",
      "source": [
        "## Meadian\n",
        "\n",
        "**Median** is the middle value, when the data is sorted in ascending order. Half of the data points are smaller and half of data points are larger than the median.\n",
        "\n",
        "For example purpose, let's take first 10 entries of the data."
      ]
    },
    {
      "metadata": {
        "id": "6KadvLjuAvdp",
        "colab_type": "code",
        "colab": {},
        "outputId": "9e6cfb38-dd91-4259-dd69-9cc5dd7b2f63"
      },
      "cell_type": "code",
      "source": [
        "win_by_runs_10 = list(win_by_runs_data[:10])\n",
        "print(win_by_runs_10)\n",
        "print(sorted(win_by_runs_10))"
      ],
      "execution_count": 0,
      "outputs": [
        {
          "output_type": "stream",
          "text": [
            "[35, 15, 97, 17, 51, 27, 5, 21, 15, 14]\n",
            "[5, 14, 15, 15, 17, 21, 27, 35, 51, 97]\n"
          ],
          "name": "stdout"
        }
      ]
    },
    {
      "metadata": {
        "id": "8yzNECiYAvds",
        "colab_type": "text"
      },
      "cell_type": "markdown",
      "source": [
        "To find median,\n",
        "* Sort the data from smallest to largest (ascending order)\n",
        "* If there are **odd** number of data points, median is the *middle* data point.\n",
        "* If there are **even** number of data points, median is the *average of two* middle data points\n",
        "\n",
        "```\n",
        "[5, 14, 15, 15, 17, 21, 27, 35, 51, 97]\n",
        "                ^^  ^^  \n",
        "           (middle numbers)\n",
        "                                  \n",
        "Median = (17 + 21)/2 = 19\n",
        "```\n",
        "\n",
        "Let's verify,"
      ]
    },
    {
      "metadata": {
        "id": "0ejmhYDeAvdt",
        "colab_type": "code",
        "colab": {},
        "outputId": "d31473b9-bc07-4f96-ad7b-356c137ecdd8"
      },
      "cell_type": "code",
      "source": [
        "win_by_runs_10_median = win_by_runs_data[:10].median()\n",
        "print(f'Median (first 10) = {win_by_runs_10_median}')\n",
        "\n",
        "win_by_runs_median = win_by_runs_data.median()\n",
        "print(f'Median = {win_by_runs_median}')"
      ],
      "execution_count": 0,
      "outputs": [
        {
          "output_type": "stream",
          "text": [
            "Median (first 10) = 19.0\n",
            "Median = 22.0\n"
          ],
          "name": "stdout"
        }
      ]
    },
    {
      "metadata": {
        "id": "iVO23SZ2Avdx",
        "colab_type": "text"
      },
      "cell_type": "markdown",
      "source": [
        "## Mode\n",
        "\n",
        "**Mode** is the number occurring most often in the dataset.\n",
        "* It is only meaningful if we have many repeated values in our dataset\n",
        "* If no value is repeated, there is **no mode**\n",
        "* A dataset can have ***one mode***, ***multiple modes*** or ***no mode***.\n",
        "\n",
        "Let's try to retrieve mode for our dataset."
      ]
    },
    {
      "metadata": {
        "id": "MQasCL7aAvdy",
        "colab_type": "code",
        "colab": {},
        "outputId": "1165717e-5583-4456-e19f-310cf5bcdcc8"
      },
      "cell_type": "code",
      "source": [
        "# Retrieve frequency (sorted, descending order)\n",
        "win_by_runs_data.value_counts(sort=True, ascending=False).head()"
      ],
      "execution_count": 0,
      "outputs": [
        {
          "output_type": "execute_result",
          "data": {
            "text/plain": [
              "4     11\n",
              "14    11\n",
              "10    10\n",
              "15     9\n",
              "13     9\n",
              "Name: win_by_runs, dtype: int64"
            ]
          },
          "metadata": {
            "tags": []
          },
          "execution_count": 14
        }
      ]
    },
    {
      "metadata": {
        "id": "PiGRi1T7Avd2",
        "colab_type": "text"
      },
      "cell_type": "markdown",
      "source": [
        "As we can observe, `[4, 14]` occurs **11 times** in the dataset. \n",
        "\n",
        "Hence, **Mode = [4, 14]**,\n",
        "\n",
        "We can verify using `pandas.DataFrame.mode` method"
      ]
    },
    {
      "metadata": {
        "id": "WYoOLBQSAvd3",
        "colab_type": "code",
        "colab": {},
        "outputId": "67fcc7ae-9166-49fc-ec21-c38aad2bcd6d"
      },
      "cell_type": "code",
      "source": [
        "win_by_runs_data_mode = win_by_runs_data.mode()\n",
        "print(f'Mode = {list(win_by_runs_data_mode)}')"
      ],
      "execution_count": 0,
      "outputs": [
        {
          "output_type": "stream",
          "text": [
            "Mode = [4, 14]\n"
          ],
          "name": "stdout"
        }
      ]
    }
  ]
}
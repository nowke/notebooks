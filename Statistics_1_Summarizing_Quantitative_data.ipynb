{
  "nbformat": 4,
  "nbformat_minor": 0,
  "metadata": {
    "colab": {
      "name": "Statistics - 1. Summarizing Quantitative data.ipynb",
      "version": "0.3.2",
      "provenance": []
    },
    "kernelspec": {
      "display_name": "Python 3",
      "language": "python",
      "name": "python3"
    }
  },
  "cells": [
    {
      "metadata": {
        "id": "2wyH3YjMyI_b",
        "colab_type": "text"
      },
      "cell_type": "markdown",
      "source": [
        "# Introduction\n",
        "**Quantitative data** is information that can be measured in real numbers. Examples include,\n",
        "* Height of a person\n",
        "* Speed of Tesla cars\n",
        "* Runs scored by a batsman\n",
        "* Wickets taken by a bowler\n",
        "\n",
        "In this notebook, we'll explore various statistical concepts involved in **summarizing quantitative data** with the help of **Indian Premier League (IPL)** dataset.\n",
        "\n",
        "The data consists of two CSV files for all IPL matches played from  **2008 - 2018** (11 seasons)\n",
        "* **`matches.csv`** - match-by-match data\n",
        "* **`deliveries.csv`** - ball-by-ball data\n",
        "\n",
        "Let's setup `pandas` dataframes for the above files and import necessary libraries."
      ]
    },
    {
      "metadata": {
        "id": "u1xfEXjZyI_c",
        "colab_type": "code",
        "colab": {}
      },
      "cell_type": "code",
      "source": [
        "import math\n",
        "import numpy as np\n",
        "import pandas as pd\n",
        "from scipy import stats\n",
        "import os\n",
        "\n",
        "matches    = pd.read_csv('../input/matches.csv')\n",
        "deliveries = pd.read_csv('../input/deliveries.csv')"
      ],
      "execution_count": 0,
      "outputs": []
    },
    {
      "metadata": {
        "id": "WbOsBYnHyI_h",
        "colab_type": "text"
      },
      "cell_type": "markdown",
      "source": [
        "Let's inspect the `matches` data before stepping into the concepts"
      ]
    },
    {
      "metadata": {
        "id": "R81Z7F-ZyI_i",
        "colab_type": "code",
        "colab": {}
      },
      "cell_type": "code",
      "source": [
        "print(f'Number of rows    = {len(matches)}')\n",
        "print(f'Number of columns = {len(matches.columns)}')\n",
        "matches.head()"
      ],
      "execution_count": 0,
      "outputs": []
    },
    {
      "metadata": {
        "id": "T9QfgrDzyI_m",
        "colab_type": "text"
      },
      "cell_type": "markdown",
      "source": [
        "# Measuring center\n",
        "\n",
        "First step often learnt in [descriptive statistics](https://en.wikipedia.org/wiki/Descriptive_statistics) is to measure the center of given data. There are various ways to measure the center. We'll go through some of them.\n",
        "\n",
        "Let's get the data ready for our experiments. \n",
        "* **`win_by_runs`** columns represents the margin in which a team has won against the opponent, if the team batting first has won.\n",
        "* i.e. If **`team1`** scores **200** runs and **`team2`** scores **150** runs, **`team1`** won the match by **50 runs** - If **`team1`** bats first\n",
        "\n",
        "Hence, we have to exclude all instances of **`win_by_wickets`** cases, i.e. **`win_by_runs = 0`**"
      ]
    },
    {
      "metadata": {
        "id": "bz7QCo0TyI_n",
        "colab_type": "code",
        "colab": {}
      },
      "cell_type": "code",
      "source": [
        "win_by_runs_data = matches[matches['win_by_runs'] > 0].win_by_runs\n",
        "print(f'Number of rows = {len(win_by_runs_data)}')\n",
        "win_by_runs_data.head()"
      ],
      "execution_count": 0,
      "outputs": []
    },
    {
      "metadata": {
        "id": "PbySJQg7yI_q",
        "colab_type": "text"
      },
      "cell_type": "markdown",
      "source": [
        "We'll discuss about 3 methods of measuring center - ***Mean***, ***Median*** and ***Mode***"
      ]
    },
    {
      "metadata": {
        "id": "P_2VfqM6yI_q",
        "colab_type": "text"
      },
      "cell_type": "markdown",
      "source": [
        "## Mean\n",
        "\n",
        "**Mean** (usuallly refered to **Arithmetic Mean**, also called **Average**) is calculated as **sum** of all numbers in the dataset and dividing by the **total** number of values\n",
        "\n",
        "### Arithmetic Mean\n",
        "\n",
        "\\begin{align}\n",
        "Arithmetic\\,mean = {Sum\\,of\\,all\\,numbers \\over No.\\,of\\,values\\,in\\,the \\,set}\\,\\,\\,\\,or\\, \n",
        "\\end{align}\n",
        "\n",
        "\\begin{align}\n",
        "\\bar{x} = {\\sum_{i=i}^{n} x_{i} \\over n}\n",
        "\\end{align}\n",
        "\n",
        "Arithmetic mean of our data is calculated as,\n",
        "\n",
        "`mean = (35 + 15 + 97 + 17 + ...) / 315`\n",
        "\n",
        "Let's do that in code."
      ]
    },
    {
      "metadata": {
        "id": "LgOxr9qnyI_s",
        "colab_type": "code",
        "colab": {},
        "outputId": "46ca1823-4c7a-464e-e126-95de098bdcbc"
      },
      "cell_type": "code",
      "source": [
        "win_by_runs_rows = len(win_by_runs_data) # No. of values in the set (n)\n",
        "win_by_runs_sum = sum(win_by_runs_data) # Sum of all numbers\n",
        "\n",
        "print(f'Sum of all numbers = {win_by_runs_sum}, No. of values in the set = {win_by_runs_rows}')\n",
        "\n",
        "win_by_runs_arithmetic_mean = win_by_runs_sum / win_by_runs_rows # Calculating arithmetic mean\n",
        "print(f'Arithmetic mean = {win_by_runs_arithmetic_mean}')"
      ],
      "execution_count": 0,
      "outputs": [
        {
          "output_type": "stream",
          "text": [
            "Sum of all numbers = 9377, No. of values in the set = 315\n",
            "Arithmetic mean = 29.76825396825397\n"
          ],
          "name": "stdout"
        }
      ]
    },
    {
      "metadata": {
        "id": "SQ3UaGbUyI_x",
        "colab_type": "text"
      },
      "cell_type": "markdown",
      "source": [
        "We can verify the number with the help of `mean()` method in `pandas`"
      ]
    },
    {
      "metadata": {
        "id": "ST9xJtNayI_y",
        "colab_type": "code",
        "colab": {}
      },
      "cell_type": "code",
      "source": [
        "win_by_runs_arithmetic_mean_verify = win_by_runs_data.mean()\n",
        "print(f'Arithmetic mean (verify) = {win_by_runs_arithmetic_mean_verify}')"
      ],
      "execution_count": 0,
      "outputs": []
    },
    {
      "metadata": {
        "id": "vjEKddWSyI_1",
        "colab_type": "text"
      },
      "cell_type": "markdown",
      "source": [
        "### Geometric Mean\n",
        "\n",
        "Another type of mean is **geometric mean**. It is calculated as **Nth root** of **product** of all the numbers, where N is the total number of values in the dataset\n",
        "\n",
        "\\begin{align}\n",
        "Geometric\\,mean = \\sqrt[n]{product\\,of\\,all\\,numbers}\n",
        "\\end{align}\n",
        "\n",
        "\\begin{align}\n",
        "\\bar{x}_{geom} = \\sqrt[n]{\\prod_{i=1}^n x_i}\n",
        "\\end{align}\n",
        "\n",
        "Geometric mean of our data is calculated as,\n",
        "\n",
        "`geometric_mean = 315thRoot(35 x 15 x 97 x 17 x ...)`"
      ]
    },
    {
      "metadata": {
        "id": "rSqKUFuZyI_1",
        "colab_type": "code",
        "colab": {}
      },
      "cell_type": "code",
      "source": [
        "win_by_runs_geo_mean = stats.mstats.gmean(win_by_runs_data)\n",
        "print(f'Geometric mean = {win_by_runs_geo_mean}')"
      ],
      "execution_count": 0,
      "outputs": []
    },
    {
      "metadata": {
        "id": "EBmzc9h7yI_4",
        "colab_type": "text"
      },
      "cell_type": "markdown",
      "source": [
        "## Meadian\n",
        "\n",
        "**Median** is the middle value, when the data is sorted in ascending order. Half of the data points are smaller and half of data points are larger than the median.\n",
        "\n",
        "For example purpose, let's take first 10 entries of the data."
      ]
    },
    {
      "metadata": {
        "id": "79ueorE5yI_6",
        "colab_type": "code",
        "colab": {}
      },
      "cell_type": "code",
      "source": [
        "win_by_runs_10 = list(win_by_runs_data[:10])\n",
        "print(win_by_runs_10)\n",
        "print(sorted(win_by_runs_10))"
      ],
      "execution_count": 0,
      "outputs": []
    },
    {
      "metadata": {
        "id": "XRkRrk9jyI_9",
        "colab_type": "text"
      },
      "cell_type": "markdown",
      "source": [
        "To find median,\n",
        "* Sort the data from smallest to largest (ascending order)\n",
        "* If there are **odd** number of data points, median is the *middle* data point.\n",
        "* If there are **even** number of data points, median is the *average of two* middle data points\n",
        "\n",
        "```\n",
        "[5, 14, 15, 15, 17, 21, 27, 35, 51, 97]\n",
        "                ^^  ^^  \n",
        "           (middle numbers)\n",
        "                                  \n",
        "Median = (17 + 21)/2 = 19\n",
        "```\n",
        "\n",
        "Let's verify,"
      ]
    },
    {
      "metadata": {
        "id": "wOGo4DgoyI_-",
        "colab_type": "code",
        "colab": {}
      },
      "cell_type": "code",
      "source": [
        "win_by_runs_10_median = win_by_runs_data[:10].median()\n",
        "print(f'Median (first 10) = {win_by_runs_10_median}')\n",
        "\n",
        "win_by_runs_median = win_by_runs_data.median()\n",
        "print(f'Median = {win_by_runs_median}')"
      ],
      "execution_count": 0,
      "outputs": []
    },
    {
      "metadata": {
        "id": "K9nblk4YyJAA",
        "colab_type": "text"
      },
      "cell_type": "markdown",
      "source": [
        "## Mode\n",
        "\n",
        "**Mode** is the number occurring most often in the dataset.\n",
        "* It is only meaningful if we have many repeated values in our dataset\n",
        "* If no value is repeated, there is **no mode**\n",
        "* A dataset can have ***one mode***, ***multiple modes*** or ***no mode***.\n",
        "\n",
        "Let's try to retrieve mode for our dataset."
      ]
    },
    {
      "metadata": {
        "id": "j9m3VIhCyJAB",
        "colab_type": "code",
        "colab": {}
      },
      "cell_type": "code",
      "source": [
        "# Retrieve frequency (sorted, descending order)\n",
        "win_by_runs_data.value_counts(sort=True, ascending=False).head()"
      ],
      "execution_count": 0,
      "outputs": []
    },
    {
      "metadata": {
        "id": "BPf9OlbiyJAE",
        "colab_type": "text"
      },
      "cell_type": "markdown",
      "source": [
        "As we can observe, `[4, 14]` occurs **11 times** in the dataset. \n",
        "\n",
        "Hence, **Mode = [4, 14]**,\n",
        "\n",
        "We can verify using `pandas.DataFrame.mode` method"
      ]
    },
    {
      "metadata": {
        "id": "woNchiQtyJAF",
        "colab_type": "code",
        "colab": {}
      },
      "cell_type": "code",
      "source": [
        "win_by_runs_data_mode = win_by_runs_data.mode()\n",
        "print(f'Mode = {list(win_by_runs_data_mode)}')"
      ],
      "execution_count": 0,
      "outputs": []
    },
    {
      "metadata": {
        "id": "AcpAVWZ1yJAI",
        "colab_type": "text"
      },
      "cell_type": "markdown",
      "source": [
        "# Measuring spread (variability)\n",
        "\n",
        "By just measuring the center of the data, one wouldn't get much idea about the dataset. There are various ways of measuring how the data is spread.\n",
        "\n",
        "## Range\n",
        "\n",
        "**Range** is the simplest form of measuring variability. It is the difference between largest number and smallest number."
      ]
    },
    {
      "metadata": {
        "id": "WTvZ9tn-yJAJ",
        "colab_type": "code",
        "colab": {}
      },
      "cell_type": "code",
      "source": [
        "win_by_runs_max = win_by_runs_data.max()\n",
        "win_by_runs_min = win_by_runs_data.min()\n",
        "win_by_runs_range = win_by_runs_max - win_by_runs_min\n",
        "\n",
        "print(f'Largest = {win_by_runs_max}, Smallest = {win_by_runs_min}, Range = {win_by_runs_range}')"
      ],
      "execution_count": 0,
      "outputs": []
    },
    {
      "metadata": {
        "id": "xezV8fVKyJAN",
        "colab_type": "text"
      },
      "cell_type": "markdown",
      "source": [
        "## Interquartile Range (IQR)\n",
        "\n",
        "**Interquartile range** or **IQR** is the amount spread in middle 50% of the dataset or the distance between *first Quartile* (Q₁) and *third Quartile* (Q₃)\n",
        "\n",
        "* First Quartile (Q₁) = Median of data points to left of the median in ordered list (25th percentile)\n",
        "* Second Quartile (Q₂) = Median of data (50th percentile)\n",
        "* Third Quartile (Q₃) = Median of data points to right of the median in ordered list (75th percentile)\n",
        "* IQR = Q₃ - Q₁\n",
        "\n",
        "![Interquartile range](https://nowke.github.io/stats/images/iqr.svg)\n",
        "\n",
        "```\n",
        "[41, 48, 58, 60, 60, 67, 69, 71, 75, 78, 81, 83, 89, 89, 91, 92, 94, 94, 96, 98]\n",
        " ^^^^^^^^^^^^^^^^^^^^^^^^^^^^^^^^^^^^^^  ^^^^^^^^^^^^^^^^^^^^^^^^^^^^^^^^^^^^^^\n",
        "             first half                              second half\n",
        "        median = (60 + 67) / 2 = 63.5        median = (91 + 92) / 2 = 91.5\n",
        "\n",
        "Q₁ = 63.5\n",
        "Q₃ = 91.5\n",
        "IQR = Q₃ - Q₁ = 91.5 - 63.5 = 28\n",
        "```\n",
        "\n",
        "Let's calculate IQR for `win_by_runs`"
      ]
    },
    {
      "metadata": {
        "id": "2wnzPFwlyJAP",
        "colab_type": "code",
        "colab": {}
      },
      "cell_type": "code",
      "source": [
        "win_by_runs_25_perc = stats.scoreatpercentile(win_by_runs_data, 25)\n",
        "win_by_runs_75_perc = stats.scoreatpercentile(win_by_runs_data, 75)\n",
        "\n",
        "win_by_runs_iqr = stats.iqr(win_by_runs_data)\n",
        "print(f'Q1 (25th percentile) = {win_by_runs_25_perc}')\n",
        "print(f'Q3 (75th percentile) = {win_by_runs_75_perc}')\n",
        "print(f'IQR = Q3 - Q1 = {win_by_runs_75_perc} - {win_by_runs_25_perc} = {win_by_runs_iqr}')"
      ],
      "execution_count": 0,
      "outputs": []
    },
    {
      "metadata": {
        "id": "vEHa_CtNyJAT",
        "colab_type": "text"
      },
      "cell_type": "markdown",
      "source": [
        "### Percentiles\n",
        "\n",
        "**Percentile** is a number where certain percentage of numbers fall below that number.\n",
        "\n",
        "Taking the above example,\n",
        "* 25th percentile = 11 &rarr; 25% of the matches are won by less thant 11 runs.\n",
        "* 75th percentile = 38 &rarr; 75% of the matches are won by less than 38 runs.\n",
        "\n",
        "Percentile can be calculated using `scipy.stats.scoreatpercentile`\n",
        "\n",
        "To calculate 95th percentile,"
      ]
    },
    {
      "metadata": {
        "id": "Nm5WKMIYyJAU",
        "colab_type": "code",
        "colab": {}
      },
      "cell_type": "code",
      "source": [
        "win_by_runs_95_perc = stats.scoreatpercentile(win_by_runs_data, 95)\n",
        "print(f'95th percentile = {win_by_runs_95_perc}')"
      ],
      "execution_count": 0,
      "outputs": []
    },
    {
      "metadata": {
        "id": "FL0y0kO0yJAX",
        "colab_type": "text"
      },
      "cell_type": "markdown",
      "source": [
        "## Variance and Standard deviation\n",
        "\n",
        "Standard deviation and variance measures the spread of a dataset. If the data is spread out largely, standard deviation (and variance) is greater. \n",
        "\n",
        "In other terms, \n",
        "* if more data points are closer to the mean, standard deviation is less\n",
        "* if the data points are further from the mean, standard deviation is more\n",
        "\n",
        "Formula for variance for **population** is given as,\n",
        "\n",
        "\\begin{align}\n",
        "Variance\\,=\\sigma^2 = {\\sum_{i=i}^{n}{(x_i - \\mu)}^2 \\over n}\n",
        "\\end{align}\n",
        "\n",
        "where, $\\mu$ is the **mean** of the dataset\n",
        "\n",
        "Standard deviation is just the square root of variance\n",
        "\n",
        "\\begin{align}\n",
        "Standard\\,deviation\\,=\\sigma = \\sqrt{\\sum_{i=i}^{n}{(x_i - \\mu)}^2 \\over n}\n",
        "\\end{align}\n",
        "\n",
        "> **Note**:\n",
        ">\n",
        "> For **Sample**, we use `n - 1` instead of `n`,  $\\bar{x}$ - mean of sample\n",
        "> \\begin{align}\n",
        "Standard\\,deviation\\,=S_{sample} = \\sqrt{\\sum_{i=i}^{n}{(x_i - \\bar{x})}^2 \\over n - 1}\n",
        "\\end{align}\n",
        "\n",
        "Let's take `win_by_wickets` dataset."
      ]
    },
    {
      "metadata": {
        "id": "kRgoLXZZyJAX",
        "colab_type": "code",
        "colab": {},
        "outputId": "93db34e0-d9d5-4404-a48e-a39b77befda5"
      },
      "cell_type": "code",
      "source": [
        "win_by_wickets_data = matches[matches.win_by_wickets > 0].win_by_wickets\n",
        "print(f'Number of rows = {len(win_by_wickets_data)}')\n",
        "win_by_wickets_data.head()"
      ],
      "execution_count": 0,
      "outputs": [
        {
          "output_type": "stream",
          "text": [
            "Number of rows = 371\n"
          ],
          "name": "stdout"
        },
        {
          "output_type": "execute_result",
          "data": {
            "text/plain": [
              "1     7\n",
              "2    10\n",
              "3     6\n",
              "5     9\n",
              "6     4\n",
              "Name: win_by_wickets, dtype: int64"
            ]
          },
          "metadata": {
            "tags": []
          },
          "execution_count": 34
        }
      ]
    },
    {
      "metadata": {
        "id": "3JphxKslyJAb",
        "colab_type": "text"
      },
      "cell_type": "markdown",
      "source": [
        "Let's calculate the standard deviation by formula"
      ]
    },
    {
      "metadata": {
        "id": "PQD1tTsSyJAb",
        "colab_type": "code",
        "colab": {},
        "outputId": "bf317af9-9207-4516-a2bd-9d4028467674"
      },
      "cell_type": "code",
      "source": [
        "# Step 1: calculate mean(μ)\n",
        "win_by_wickets_mean = win_by_wickets_data.mean()\n",
        "print(f'Mean = {win_by_wickets_mean}')\n",
        "\n",
        "# Step 2: calculate numerator part - sum of (x - mean)\n",
        "win_by_wickets_var_numerator = sum([(x - win_by_wickets_mean) ** 2 for x in win_by_wickets_data])\n",
        "\n",
        "# Step 3: calculate variane\n",
        "win_by_wickets_variance = win_by_wickets_var_numerator / len(win_by_wickets_data)\n",
        "print(f'Variance = {win_by_wickets_variance}')\n",
        "\n",
        "# Step 4: calculate standard deviation\n",
        "win_by_wickets_standard_deviation = math.sqrt(win_by_wickets_variance)\n",
        "print(f'Standard deviation = {win_by_wickets_standard_deviation}')"
      ],
      "execution_count": 0,
      "outputs": [
        {
          "output_type": "stream",
          "text": [
            "Mean = 6.283018867924528\n",
            "Variance = 3.3673396734984533\n",
            "Standard deviation = 1.835031245918841\n"
          ],
          "name": "stdout"
        }
      ]
    },
    {
      "metadata": {
        "id": "8c6j-qvsyJAf",
        "colab_type": "text"
      },
      "cell_type": "markdown",
      "source": [
        "Let's verify the result using `pandas.DataFrame.std` (Note: We're passing `ddof = 0` for population)"
      ]
    },
    {
      "metadata": {
        "id": "GzbilvnqyJAf",
        "colab_type": "code",
        "colab": {},
        "outputId": "b0a47fb4-1521-45d7-fa18-1e69266a5955"
      },
      "cell_type": "code",
      "source": [
        "win_by_wickets_standard_deviation_verify = win_by_wickets_data.std(ddof = 0)\n",
        "print(f'Standard deviation = {win_by_wickets_standard_deviation_verify}')"
      ],
      "execution_count": 0,
      "outputs": [
        {
          "output_type": "stream",
          "text": [
            "Standard deviation = 1.835031245918841\n"
          ],
          "name": "stdout"
        }
      ]
    },
    {
      "metadata": {
        "id": "WmjG6d-TyJAi",
        "colab_type": "text"
      },
      "cell_type": "markdown",
      "source": [
        "i.e. matches are won by an average of 6.28 wickets with standard deviation of 1.83 (spread = 6.28 $\\pm$ 1.83)\n",
        "\n",
        "### Comparison with IQR\n",
        "\n",
        "IQR is calculated with respect to **median**, Standard deviation is calculated with respect to **mean**.\n",
        "\n",
        "Let's compare those for `win_by_runs` data"
      ]
    },
    {
      "metadata": {
        "id": "k0Q8eTEbyJAj",
        "colab_type": "code",
        "colab": {},
        "outputId": "31bdfa4f-782e-4210-e5f2-ee6a6d064969"
      },
      "cell_type": "code",
      "source": [
        "win_by_runs_std = win_by_runs_data.std(ddof = 0)\n",
        "print(f'| Mean               = {win_by_runs_arithmetic_mean} | Median  = {win_by_runs_median} |')\n",
        "print(f'| Standard deviation = {win_by_runs_std} | IQR     = {win_by_runs_iqr} |')"
      ],
      "execution_count": 0,
      "outputs": [
        {
          "output_type": "stream",
          "text": [
            "| Mean               = 29.76825396825397 | Median  = 22.0 |\n",
            "| Standard deviation = 27.28719000229254 | IQR     = 27.0 |\n"
          ],
          "name": "stdout"
        }
      ]
    },
    {
      "metadata": {
        "id": "IRcJpDMDyJAm",
        "colab_type": "text"
      },
      "cell_type": "markdown",
      "source": [
        "For this particular data, standard deviation and IQR are pretty close by, although it won't be the scenario always.\n",
        "\n",
        "## Distribution graph\n",
        "\n",
        "Let's plot the frequency distribution graph for `win_by_wickets` data since we can have values from 1 - 10."
      ]
    },
    {
      "metadata": {
        "id": "LJakaI-QyJAn",
        "colab_type": "code",
        "colab": {},
        "outputId": "349b62e2-3628-47e1-dd17-16d05fd253b1"
      },
      "cell_type": "code",
      "source": [
        "win_by_wickets_dist = win_by_wickets_data.value_counts(sort=False)\n",
        "win_by_wickets_dist.plot.bar()"
      ],
      "execution_count": 0,
      "outputs": [
        {
          "output_type": "execute_result",
          "data": {
            "text/plain": [
              "<matplotlib.axes._subplots.AxesSubplot at 0x7f4bb9fc0550>"
            ]
          },
          "metadata": {
            "tags": []
          },
          "execution_count": 59
        },
        {
          "output_type": "display_data",
          "data": {
            "text/plain": [
              "<matplotlib.figure.Figure at 0x7f4bb9fafcc0>"
            ],
            "image/png": "[encoded data removed]"
          },
          "metadata": {
            "tags": []
          }
        }
      ]
    }
  ]
}
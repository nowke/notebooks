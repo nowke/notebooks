{
  "nbformat": 4,
  "nbformat_minor": 0,
  "metadata": {
    "colab": {
      "name": "Statistics: 2. Distributions",
      "version": "0.3.2",
      "provenance": []
    },
    "kernelspec": {
      "display_name": "Python 3",
      "language": "python",
      "name": "python3"
    }
  },
  "cells": [
    {
      "metadata": {
        "id": "oE9nGgmkV-fH",
        "colab_type": "text"
      },
      "cell_type": "markdown",
      "source": [
        "# Introduction\n",
        "\n",
        "A distribution of data is a representation (or function) showing all possible values (or intervals) and how often those values occur.\n",
        "\n",
        "For **categorical data**, we'll often see percentage or exact number for each of the category.<br>\n",
        "For **numerical data**, we'll see the data split into appropriate sized buckets ordered from smallest to largest\n",
        "\n",
        "When a distribution is plotted into a graph, we can observe different shapes of the curve. Based on the shape and other attributes, there exists many types of distributions. A few statistical distributions are,\n",
        "* Bernoulli Distribution\n",
        "* Binomial Distribution\n",
        "* Cumulative frequency distribution\n",
        "* Bimodal distribution\n",
        "* Gaussian distribution (Normal distribution)\n",
        "* Uniform distribution\n",
        "\n",
        "Let's setup our dataset,"
      ]
    },
    {
      "metadata": {
        "id": "qUIy5jkLV-fI",
        "colab_type": "code",
        "colab": {}
      },
      "cell_type": "code",
      "source": [
        "import math\n",
        "import numpy as np\n",
        "import pandas as pd\n",
        "from matplotlib import pyplot\n",
        "from scipy import stats\n",
        "\n",
        "matches    = pd.read_csv('../input/matches.csv')\n",
        "deliveries = pd.read_csv('../input/deliveries.csv')"
      ],
      "execution_count": 0,
      "outputs": []
    },
    {
      "metadata": {
        "id": "6qwmwIKlV-fN",
        "colab_type": "text"
      },
      "cell_type": "markdown",
      "source": [
        "# Cumulative relative frequency graph\n",
        "\n",
        "Let's take `win_by_wickets` dataset and plot a frequency distribution graph.\n",
        "\n",
        "X-axis - Win by wickets (value from 1 to 10), Y-axis - Number of instances (or frequency) of win-by-wicket margin"
      ]
    },
    {
      "metadata": {
        "id": "1UNmzNdkV-fO",
        "colab_type": "code",
        "colab": {}
      },
      "cell_type": "code",
      "source": [
        "win_by_wickets_data = matches[matches.win_by_wickets > 0].win_by_wickets\n",
        "win_by_wickets_freq = win_by_wickets_data.value_counts(sort=False)\n",
        "print(win_by_wickets_freq)\n",
        "plt = win_by_wickets_freq.plot.bar()\n",
        "plt.set_title(\"Frequency distribution graph - Win by wickets\")\n",
        "plt.set_xlabel(\"Win by wickets\")\n",
        "plt.set_ylabel(\"Frequency\")"
      ],
      "execution_count": 0,
      "outputs": []
    },
    {
      "metadata": {
        "id": "U4cHKNSkV-fR",
        "colab_type": "text"
      },
      "cell_type": "markdown",
      "source": [
        "Now, let's plot **Relative frequency distribution graph** for the same data. Here in **Y-axis**, instead of showing the frequency, we show the **percentage** of the value. We can use `normalize = True` argument for `pandas.Series.value_counts` method"
      ]
    },
    {
      "metadata": {
        "id": "4BPKDu9yV-fS",
        "colab_type": "code",
        "colab": {}
      },
      "cell_type": "code",
      "source": [
        "win_by_wickets_rel_freq = win_by_wickets_data.value_counts(sort = False, normalize = True)\n",
        "print(win_by_wickets_rel_freq)\n",
        "plt = win_by_wickets_rel_freq.plot.bar()\n",
        "plt.set_title(\"Relative Frequency distribution graph - Win by wickets\")\n",
        "plt.set_xlabel(\"Win by wickets\")\n",
        "plt.set_ylabel(\"Relative frequency (%)\")"
      ],
      "execution_count": 0,
      "outputs": []
    },
    {
      "metadata": {
        "id": "VSenDR2-V-fV",
        "colab_type": "text"
      },
      "cell_type": "markdown",
      "source": [
        "From here, we can plot the **cumulative relative frequency graph** using `pandas.Series.cumsum` ."
      ]
    },
    {
      "metadata": {
        "id": "pkIhoxMJV-fW",
        "colab_type": "code",
        "colab": {}
      },
      "cell_type": "code",
      "source": [
        "win_by_wickets_cumulative_freq = win_by_wickets_data.value_counts(sort = False, normalize = True).cumsum()\n",
        "print(win_by_wickets_cumulative_freq)\n",
        "plt = win_by_wickets_cumulative_freq.plot.bar()\n",
        "plt.set_title(\"Cumulative relative frequency distribution graph - Win by wickets\")\n",
        "plt.set_xlabel(\"Win by wickets\")\n",
        "plt.set_ylabel(\"Cumulative relative frequency (%)\")"
      ],
      "execution_count": 0,
      "outputs": []
    },
    {
      "metadata": {
        "id": "NDM2Fu7lV-fZ",
        "colab_type": "text"
      },
      "cell_type": "markdown",
      "source": [
        "What's the relevance of this representation?\n",
        "\n",
        "Let's try to answer this &rarr; **What is the probability of winning a match by 6 wickets or less?**. \n",
        "\n",
        "Of course we can calculate that using the data. But let's try to figure out from the graph. Draw a line from the top of **\"6\"** to the Y-axis. We'll draw **Line graph** instead of Bar graph."
      ]
    },
    {
      "metadata": {
        "id": "8b25pVs7V-fZ",
        "colab_type": "code",
        "colab": {}
      },
      "cell_type": "code",
      "source": [
        "plt = win_by_wickets_cumulative_freq.plot.line()\n",
        "plt.axhline(y = win_by_wickets_cumulative_freq[6], xmax = 5.5/10, linestyle='dashed')\n",
        "plt.axvline(x = 6, ymax = win_by_wickets_cumulative_freq[6], linestyle='dashed')"
      ],
      "execution_count": 0,
      "outputs": []
    },
    {
      "metadata": {
        "id": "YBSSpFa0V-fd",
        "colab_type": "text"
      },
      "cell_type": "markdown",
      "source": [
        "We can roughly approximate this value to be around 0.54. \n",
        "\n",
        "Thus, using cumulative relative frequency graph, the **probability of winning a match by 6 wickets or less is approximately 54%.**\n",
        "\n",
        "We can also calculate the **percentile** of a value using the above graph. For example, if a team wins by a margin of **4** wickets, the **percentile** of this match is around **16%**"
      ]
    },
    {
      "metadata": {
        "id": "cmeCHpLEV-fe",
        "colab_type": "text"
      },
      "cell_type": "markdown",
      "source": [
        "# Normal distribution\n",
        "\n",
        "**Normal distribution** is a continuous probability distribution that describes many natural datasets. It is also known as **bell curve** or **Gaussian distribution**. We see many natural examples that are closer to a normal distribution.\n",
        "\n",
        "* Heights of people\n",
        "* Shoe sizes\n",
        "* Lap duration in a car race\n",
        "\n",
        "In a perfect normal distribution, we can see 50% symmetry about the center. Also, the center is - **mean** = **mode** = **median**.\n",
        "\n",
        "![Normal distribution - symmetry](https://nowke.github.io/stats/images/normal-distribution-symmetry.svg)\n",
        "\n",
        "## Normal distribution and variance\n",
        "\n",
        "If the variance of the dataset is high, the curve tends to look flat. If variance is low, curve is more steeper.\n",
        "\n",
        "![Nomral distribution - variance](https://nowke.github.io/stats/images/normal-distribution-variance.svg)\n",
        "\n",
        "Let's plot `win_by_wickets` data and watch the curve."
      ]
    },
    {
      "metadata": {
        "id": "mpd85d5KV-ff",
        "colab_type": "code",
        "colab": {}
      },
      "cell_type": "code",
      "source": [
        "# Get mean (mu) and std (sigma)\n",
        "win_by_wickets_mean, win_by_wickets_std = win_by_wickets_data.mean(), win_by_wickets_data.std()\n",
        "\n",
        "# Plot histogram (normalized) - LIGHT-BLUE\n",
        "win_by_wickets_data.hist(color='lightblue', weights = np.zeros_like(win_by_wickets_data) + 1.0 / win_by_wickets_data.count())\n",
        "\n",
        "# Plot line graph - RED\n",
        "win_by_wickets_data.value_counts(sort=False, normalize=True).plot.line(color='red')\n",
        "\n",
        "# Normal distribution for random points between 1 to 10 with mean, std.\n",
        "random_data = np.arange(1, 10, 0.001)\n",
        "pyplot.plot(random_data, stats.norm.pdf(random_data, win_by_wickets_mean, win_by_wickets_std), color='green')"
      ],
      "execution_count": 0,
      "outputs": []
    },
    {
      "metadata": {
        "id": "7-3ynVCsV-fi",
        "colab_type": "text"
      },
      "cell_type": "markdown",
      "source": [
        "## Plotting the probability density function (PDF)\n",
        "\n",
        "A Probability distribution function (PDF) is a function associated with continuous random variable which desribes the relative probability of the random variable at a given value.\n",
        "\n",
        "The probability density function of the normal distribution for a given point (x), mean ($\\mu$) and standard deviation ($\\sigma$)  is given by,\n",
        "\n",
        "\\begin{align}\n",
        "f(x, \\mu, \\sigma) = {1 \\over \\sqrt{2\\pi\\sigma^2}} \\cdot e^{-{(x - \\mu)^2} \\over 2\\sigma^2}\n",
        "\\end{align}\n",
        "\n",
        "Let's plot a PDF for some random values (Source: [numpy.random.normal](https://docs.scipy.org/doc/numpy-1.14.0/reference/generated/numpy.random.normal.html))"
      ]
    },
    {
      "metadata": {
        "id": "Y-2pLfIBV-fj",
        "colab_type": "code",
        "colab": {}
      },
      "cell_type": "code",
      "source": [
        "mu, sigma = 128, 25 # From the above example\n",
        "highest_scores = np.random.normal(mu, sigma, 1000) # Random 1000 values\n",
        "\n",
        "count, bins, _ = pyplot.hist(highest_scores, 100, normed = True, color='lightblue') # plot 100 points\n",
        "pyplot.plot(bins, 1/(sigma * np.sqrt(2 * np.pi)) *\n",
        "    np.exp( - (bins - mu)**2 / (2 * sigma**2) ),\n",
        "    linewidth = 2, color = 'r') # Plot the PDF"
      ],
      "execution_count": 0,
      "outputs": []
    },
    {
      "metadata": {
        "id": "7zRMdmDiV-fo",
        "colab_type": "text"
      },
      "cell_type": "markdown",
      "source": [
        "# Z-Score\n",
        "\n",
        "A Z-score measures how many standard deviations above or below the mean a data point is. It is calculated as,\n",
        "\n",
        "\\begin{align}\n",
        "z = {x - \\mu \\over \\sigma}\n",
        "\\end{align}\n",
        "\n",
        "* Positive Z-score &rarr; Data point is above the mean\n",
        "* Negative Z-score &rarr; Data point is below the mean\n",
        "* Close to zero &rarr; Data point is close to the mean\n",
        "\n",
        "**Example**: If a team wins by a margin of 35 runs, what's the z-score? Let's calculate"
      ]
    },
    {
      "metadata": {
        "id": "p9YFADkRV-fp",
        "colab_type": "code",
        "colab": {}
      },
      "cell_type": "code",
      "source": [
        "win_by_runs_data = matches[matches.win_by_runs > 0].win_by_runs\n",
        "win_by_runs_mean, win_by_runs_std = win_by_runs_data.mean(), win_by_runs_data.std()\n",
        "z_score_35 = (35 - win_by_runs_mean) / win_by_runs_std\n",
        "print(f'Z-score of 35 is {z_score_35:.2f}')"
      ],
      "execution_count": 0,
      "outputs": []
    },
    {
      "metadata": {
        "id": "9mTIV0q0V-fx",
        "colab_type": "text"
      },
      "cell_type": "markdown",
      "source": [
        "We can convert from z-score to percentile using a [Z-table](http://www.z-table.com/) or `scipy.stats.norm.cdf` function.\n",
        "\n",
        "![Z-score-curve](https://nowke.github.io/stats/images/z-score-curve.svg)"
      ]
    },
    {
      "metadata": {
        "id": "VpiaRwfkV-fz",
        "colab_type": "code",
        "colab": {}
      },
      "cell_type": "code",
      "source": [
        "z_score = stats.norm.cdf(0.19)\n",
        "print(f'z-score of 0.19 = {z_score * 100:.2f} percentile')"
      ],
      "execution_count": 0,
      "outputs": []
    },
    {
      "metadata": {
        "id": "mU5UozK7V-f2",
        "colab_type": "text"
      },
      "cell_type": "markdown",
      "source": [
        "Probability distribution function in terms of z-score (z) given by,\n",
        "\n",
        "\\begin{align}\n",
        "f(x, \\sigma, z) = {1 \\over \\sqrt{2\\pi\\sigma^2e^{z^2}}}\n",
        "\\end{align}"
      ]
    },
    {
      "metadata": {
        "id": "OWjkcadaV-f3",
        "colab_type": "text"
      },
      "cell_type": "markdown",
      "source": [
        "# Empirical rule (68–95–99.7 rule)\n",
        "\n",
        "**Empirical rule** also called **68-95-99.7** or **three sigma rule** gives an approximate of values within 1,2 or 3 standard deviations from the mean. The following diagrams represents the value distribution from the mean in a normal distribution.\n",
        "\n",
        "![Empirical rule](https://nowke.github.io/stats/images/normal-distribution-empirical.svg)\n",
        "![Normal distribution](https://nowke.github.io/stats/images/normal-distribution.svg)"
      ]
    },
    {
      "metadata": {
        "id": "6wiMCrBTV-f5",
        "colab_type": "text"
      },
      "cell_type": "markdown",
      "source": [
        "# Binomial distribution\n",
        "\n",
        "## Binomial experiment\n",
        "\n",
        "A Binomial experiment has the following properties.\n",
        "\n",
        "* Consists of fixed number of trials (n)\n",
        "* Trials are independent of each other\n",
        "* Each trial can be either success or failure\n",
        "* Probability of success (P) on each trial remains the same\n",
        "\n",
        "***Example:*** Number of heads in after flipping a coin 10 times\n",
        "\n",
        "* The experiment is conducted for fixed number of trials - 10\n",
        "* Probability of getting head in one trial does not affect the other\n",
        "* Probability of getting head in any trial remains same - 0.5 (in a non-biased coin)\n",
        "\n",
        "## Binomial variable\n",
        "\n",
        "A **binomial variable** is the number of successes (x) out of all the trials (n).\n",
        "\n",
        "What is the probability of getting 5 heads after flipping a coin 10 times? Here $x = 5$ is a binomial variable.\n",
        "\n",
        "## Binomial distribution\n",
        "\n",
        "The probability distribution of a binomial variable is called **Binomial distribution**.\n",
        "\n",
        "Let's take the problem statement of flipping a coin - Probability of getting 5 heads after 10 flips? P(X = 5) can be calculated as\n",
        "\n",
        "\\begin{align}\n",
        "P(X = 5) = No.\\,of\\,outcomes\\,we\\,want\\,\\times Probability\\,of\\,each\\,outcome\n",
        "\\end{align}\n",
        "\n",
        "For 10 flips, we have a total of $2^{10} =1024$ outcomes. Hence,\n",
        "\n",
        "\\begin{align}\n",
        "Probability\\,of\\,each\\,outcome={1 \\over 1024}\n",
        "\\end{align}\n",
        "\n",
        "No. of outcomes where exactly 5 heads occur out of 10 flips = $^{10}C_5 = 252$\n",
        "\n",
        "\\begin{align}\n",
        "P(X = 5) = 252 \\times {1 \\over 1024} \\approx 24.6 \\%\n",
        "\\end{align}\n",
        "\n",
        "### Deriving General Binomial Probability equation\n",
        "\n",
        "Let's take the example of a biased coin instead of a fair coin with **60%** chance of heads and **40%** chance of tails.\n",
        "\n",
        "What is the probability of getting 2 heads out of 3 tosses?\n",
        "\n",
        "$p = 0.6$ (Probability of getting heads)\n",
        "\n",
        "$x = 2$ (no. of success i.e. heads)\n",
        "\n",
        "$n = 3$ (no. of trials)\n",
        "\n",
        "No. of outcomes we want = $^{n}C_x = ^{3}C_2 = 3$ (HHT, HTH, THH) \n",
        "\n",
        "To calculate probability of each outcome, let's take one outcome- HHT\n",
        "\n",
        "* Probability of getting **H** in trial 1 = 0.6\n",
        "* Probability of getting **H** in trial 2 = 0.6\n",
        "* Probability of getting **T** in trial 3 = 0.4\n",
        "\n",
        "Hence, probability of getting HHT = $0.6\\times0.6\\times0.4 = 0.144$\n",
        "\n",
        "i.e. $(0.6)^2 \\times (0.4)^1 = (0.6)^2 \\times (1-0.6)^(2-1) = p^x \\times (1-p)^{n-x}$\n",
        "\n",
        "Finally,\n",
        "\n",
        "Probability of getting 2 heads out of 3 = $3 \\times 0.144 = 0.432$\n",
        "\n",
        "Putting it together,\n",
        "\n",
        "\\begin{align}\n",
        "No.\\,of\\,outcomes\\,= ^{n}C_x\n",
        "\\end{align}\n",
        "\n",
        "\\begin{align}\n",
        "Probability\\,of\\,each\\,outcome\\,= p^x \\times (1-p)^{(n-x)}\n",
        "\\end{align}\n",
        "\n",
        "\\begin{align}\n",
        "P(x\\,\\,of\\,\\,n) = ^{n}C_x\\,\\,p^x\\,(1-p)^{(n-x)}\n",
        "\\end{align}\n",
        "\n",
        "Hence, the **general binomial probability equation** is,\n",
        "\n",
        "\\begin{align}\n",
        "P(x\\,\\,of\\,\\,n) = {n! \\over x!(n-x)!}\\,p^x\\,(1-p)^{(n-x)}\n",
        "\\end{align}\n",
        "\n",
        "Also,\n",
        "\n",
        "\\begin{align}\n",
        "Expected\\,Value: E[X] = n \\cdot p\n",
        "\\end{align}\n",
        "\n",
        "\\begin{align}\n",
        "Variance: \\sigma^2 = n \\cdot p \\cdot (1 - p)\n",
        "\\end{align}\n",
        "\n",
        "\\begin{align}\n",
        "Standard\\,deviation: \\sigma = \\sqrt{n \\cdot p \\cdot (1 - p)}\n",
        "\\end{align}\n",
        "\n",
        "## Plotting Binomial Distribution\n",
        "\n",
        "Let $X$ be a random variable = No. of heads from flipping a coin 5 times\n",
        "\n",
        "\\begin{align}\n",
        "P(X = 0) = {5! \\over 0!(5-0)!}\\,0.5^0\\,(1-{1 \\over 2})^{(5-0)} = {1 \\over 32}\n",
        "\\end{align}\n",
        "\n",
        "\\begin{align}\n",
        "P(X = 1) = {5 \\over 32},\n",
        "P(X = 2) = {10 \\over 32},\n",
        "P(X = 3) = {10 \\over 32},\n",
        "P(X = 4) = {5 \\over 32},\n",
        "P(X = 5) = {1 \\over 32}\n",
        "\\end{align}"
      ]
    },
    {
      "metadata": {
        "id": "ZqSS_-5FV-f5",
        "colab_type": "code",
        "colab": {}
      },
      "cell_type": "code",
      "source": [
        "def compute_binomial_probability(x, n, p):\n",
        "    \"\"\"Returns the probability of getting `x` success outcomes in `n` trials,\n",
        "    probability of getting success being `p`\n",
        "\n",
        "    Arguments:\n",
        "\n",
        "    x - number of trials of the event\n",
        "    n - number of trials\n",
        "    p - probability of the event\n",
        "\n",
        "    \"\"\"\n",
        "    outcomes = math.factorial(n) / (math.factorial(x) * math.factorial(n - x))\n",
        "    probability_of_each_outcome = p ** x * (1 - p) ** (n - x)\n",
        "    return outcomes * probability_of_each_outcome\n",
        "\n",
        "def plot_binomial_distribution_graph(n, p):\n",
        "    \"\"\"Plots Binomial distribution graph of an event with `n` trials,\n",
        "    probability of getting success of the event being `p` for values `0` to `n`\n",
        "\n",
        "    Arguments:\n",
        "\n",
        "    n - number of trials\n",
        "    p - probability of the event\n",
        "\n",
        "    \"\"\"\n",
        "    probabilities = list(map(lambda x: compute_binomial_probability(x, n, p), range(0, n+1)))\n",
        "    pyplot.bar(list(range(0, n+1)), probabilities)\n",
        "\n",
        "plot_binomial_distribution_graph(5, 0.5)"
      ],
      "execution_count": 0,
      "outputs": []
    },
    {
      "metadata": {
        "id": "90kPFnoQV-f_",
        "colab_type": "text"
      },
      "cell_type": "markdown",
      "source": [
        "Let's plot the distribution for flipping a coin 10 times."
      ]
    },
    {
      "metadata": {
        "id": "0MDF7BiBV-f_",
        "colab_type": "code",
        "colab": {}
      },
      "cell_type": "code",
      "source": [
        "plot_binomial_distribution_graph(10, 0.5)"
      ],
      "execution_count": 0,
      "outputs": []
    },
    {
      "metadata": {
        "id": "vFDoRpQzV-gD",
        "colab_type": "text"
      },
      "cell_type": "markdown",
      "source": [
        "As we can observe, with more trials, the plot tends to look like **Normal distribution**\n",
        "\n",
        "Plotting the graph for a biased coin - $P(head) = 0.7, P(tail) = 0.3$"
      ]
    },
    {
      "metadata": {
        "id": "A0ZDOdkhV-gF",
        "colab_type": "code",
        "colab": {}
      },
      "cell_type": "code",
      "source": [
        "plot_binomial_distribution_graph(10, 0.7)"
      ],
      "execution_count": 0,
      "outputs": []
    },
    {
      "metadata": {
        "id": "YMiW7hUdV-gJ",
        "colab_type": "text"
      },
      "cell_type": "markdown",
      "source": [
        "# Bernoulli distribution\n",
        "\n",
        "Bernoulli distribution is a **discrete probability distribution** of a random variable which has only two outcomes (\"success\" or a \"failure\"). It is named after Swiss mathematician [**Jacon Bernoulli**](https://en.wikipedia.org/wiki/Jacob_Bernoulli). It is a special case of Binomial distribution for n = 1.\n",
        "\n",
        "For example, probability (**p**) of scoring a goal in last 10 minutes is **0.35** (success), probability of not scoring a goal in last 10 minutes (failure) is **1 - p = 0.65**.\n",
        "\n",
        "Plotting Bernoulli distribution with probability for **p = 0.65**,"
      ]
    },
    {
      "metadata": {
        "id": "Oxld6wzHV-gL",
        "colab_type": "code",
        "colab": {}
      },
      "cell_type": "code",
      "source": [
        "pyplot.bar(['0', '1'], [0.35, 0.65])"
      ],
      "execution_count": 0,
      "outputs": []
    },
    {
      "metadata": {
        "id": "eUXCMH2gV-gP",
        "colab_type": "text"
      },
      "cell_type": "markdown",
      "source": [
        "\\begin{align}\n",
        "Expected\\,Value: E[X] = p\n",
        "\\end{align}\n",
        "\n",
        "\\begin{align}\n",
        "Variance: \\sigma^2 = p(1 - p)\n",
        "\\end{align}\n",
        "\n",
        "\\begin{align}\n",
        "Standard\\,deviation: \\sigma = \\sqrt{p(1 - p)}\n",
        "\\end{align}"
      ]
    }
  ]
}
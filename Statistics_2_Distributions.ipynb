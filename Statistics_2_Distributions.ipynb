{
  "nbformat": 4,
  "nbformat_minor": 0,
  "metadata": {
    "colab": {
      "name": "Statistics: 2. Distributions",
      "version": "0.3.2",
      "provenance": []
    },
    "kernelspec": {
      "display_name": "Python 3",
      "language": "python",
      "name": "python3"
    }
  },
  "cells": [
    {
      "metadata": {
        "id": "yahbe54NKBqH",
        "colab_type": "text"
      },
      "cell_type": "markdown",
      "source": [
        "# Introduction\n",
        "\n",
        "A distribution of data is a representation (or function) showing all possible values (or intervals) and how often those values occur.\n",
        "\n",
        "For **categorical data**, we'll often see percentage or exact number for each of the category.<br>\n",
        "For **numerical data**, we'll see the data split into appropriate sized buckets ordered from smallest to largest\n",
        "\n",
        "When a distribution is plotted into a graph, we can observe different shapes of the curve. Based on the shape and other attributes, there exists many types of distributions. A few statistical distributions are,\n",
        "* Bernoulli Distribution\n",
        "* Binomial Distribution\n",
        "* Cumulative frequency distribution\n",
        "* Bimodal distribution\n",
        "* Gaussian distribution (Normal distribution)\n",
        "* Uniform distribution\n",
        "\n",
        "Let's setup our dataset,"
      ]
    },
    {
      "metadata": {
        "id": "xgyWB8lvKBqJ",
        "colab_type": "code",
        "colab": {}
      },
      "cell_type": "code",
      "source": [
        "import math\n",
        "import numpy as np\n",
        "import pandas as pd\n",
        "from scipy import stats\n",
        "\n",
        "matches    = pd.read_csv('../input/matches.csv')\n",
        "deliveries = pd.read_csv('../input/deliveries.csv')"
      ],
      "execution_count": 0,
      "outputs": []
    },
    {
      "metadata": {
        "id": "C8KWBNQXKBqM",
        "colab_type": "text"
      },
      "cell_type": "markdown",
      "source": [
        "# Cumulative relative frequency graph\n",
        "\n",
        "Let's take `win_by_wickets` dataset and plot a frequency distribution graph.\n",
        "\n",
        "X-axis - Win by wickets (value from 1 to 10), Y-axis - Number of instances (or frequency) of win-by-wicket margin"
      ]
    },
    {
      "metadata": {
        "id": "61zGeZDAKBqN",
        "colab_type": "code",
        "colab": {}
      },
      "cell_type": "code",
      "source": [
        "win_by_wickets_data = matches[matches.win_by_wickets > 0].win_by_wickets\n",
        "win_by_wickets_freq = win_by_wickets_data.value_counts(sort=False)\n",
        "print(win_by_wickets_freq)\n",
        "plt = win_by_wickets_freq.plot.bar()\n",
        "plt.set_title(\"Frequency distribution graph - Win by wickets\")\n",
        "plt.set_xlabel(\"Win by wickets\")\n",
        "plt.set_ylabel(\"Frequency\")"
      ],
      "execution_count": 0,
      "outputs": []
    },
    {
      "metadata": {
        "id": "uajYkvQXKBqR",
        "colab_type": "text"
      },
      "cell_type": "markdown",
      "source": [
        "Now, let's plot **Relative frequency distribution graph** for the same data. Here in **Y-axis**, instead of showing the frequency, we show the **percentage** of the value. We can use `normalize = True` argument for `pandas.Series.value_counts` method"
      ]
    },
    {
      "metadata": {
        "id": "v3rSQVFcKBqR",
        "colab_type": "code",
        "colab": {}
      },
      "cell_type": "code",
      "source": [
        "win_by_wickets_rel_freq = win_by_wickets_data.value_counts(sort = False, normalize = True)\n",
        "print(win_by_wickets_rel_freq)\n",
        "plt = win_by_wickets_rel_freq.plot.bar()\n",
        "plt.set_title(\"Relative Frequency distribution graph - Win by wickets\")\n",
        "plt.set_xlabel(\"Win by wickets\")\n",
        "plt.set_ylabel(\"Relative frequency (%)\")"
      ],
      "execution_count": 0,
      "outputs": []
    },
    {
      "metadata": {
        "id": "S6jrCsOZKBqU",
        "colab_type": "text"
      },
      "cell_type": "markdown",
      "source": [
        "From here, we can plot the **cumulative relative frequency graph** using `pandas.Series.cumsum` ."
      ]
    },
    {
      "metadata": {
        "id": "KQpmhaa1KBqU",
        "colab_type": "code",
        "colab": {}
      },
      "cell_type": "code",
      "source": [
        "win_by_wickets_cumulative_freq = win_by_wickets_data.value_counts(sort = False, normalize = True).cumsum()\n",
        "print(win_by_wickets_cumulative_freq)\n",
        "plt = win_by_wickets_cumulative_freq.plot.bar()\n",
        "plt.set_title(\"Cumulative relative frequency distribution graph - Win by wickets\")\n",
        "plt.set_xlabel(\"Win by wickets\")\n",
        "plt.set_ylabel(\"Cumulative relative frequency (%)\")"
      ],
      "execution_count": 0,
      "outputs": []
    },
    {
      "metadata": {
        "id": "QZB2DlGXKBqX",
        "colab_type": "text"
      },
      "cell_type": "markdown",
      "source": [
        "What's the relevance of this representation?\n",
        "\n",
        "Let's try to answer this &rarr; **What is the probability of winning a match by 6 wickets or less?**. \n",
        "\n",
        "Of course we can calculate that using the data. But let's try to figure out from the graph. Draw a line from the top of **\"6\"** to the Y-axis. We'll draw **Line graph** instead of Bar graph."
      ]
    },
    {
      "metadata": {
        "id": "defU9y89KBqY",
        "colab_type": "code",
        "colab": {}
      },
      "cell_type": "code",
      "source": [
        "plt = win_by_wickets_cumulative_freq.plot.line()\n",
        "plt.axhline(y = win_by_wickets_cumulative_freq[6], xmax = 5.5/10, linestyle='dashed')\n",
        "plt.axvline(x = 6, ymax = win_by_wickets_cumulative_freq[6], linestyle='dashed')"
      ],
      "execution_count": 0,
      "outputs": []
    },
    {
      "metadata": {
        "id": "v_Dv8pEnKBqb",
        "colab_type": "text"
      },
      "cell_type": "markdown",
      "source": [
        "We can roughly approximate this value to be around 0.54. \n",
        "\n",
        "Thus, using cumulative relative frequency graph, the **probability of winning a match by 6 wickets or less is approximately 54%.**\n",
        "\n",
        "We can also calculate the **percentile** of a value using the above graph. For example, if a team wins by a margin of **4** wickets, the **percentile** of this match is around **16%**"
      ]
    }
  ]
}